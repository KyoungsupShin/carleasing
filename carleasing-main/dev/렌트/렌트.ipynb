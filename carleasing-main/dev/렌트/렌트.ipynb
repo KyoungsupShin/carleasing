{
 "cells": [
  {
   "cell_type": "code",
   "execution_count": 1,
   "id": "d2dff94b-1bee-4bc6-977c-97ebf92eb58e",
   "metadata": {},
   "outputs": [],
   "source": [
    "!pkill -f \"Microsoft Excel\""
   ]
  },
  {
   "cell_type": "code",
   "execution_count": 2,
   "id": "6324f66a-8594-4add-a1d4-262e2a777105",
   "metadata": {},
   "outputs": [],
   "source": [
    "import glob\n",
    "import xlwings as xw\n",
    "import pandas as pd\n",
    "import itertools\n",
    "import copy"
   ]
  },
  {
   "cell_type": "code",
   "execution_count": 34,
   "id": "92dd7698-3e03-4bd6-b7ed-0fa34d90115b",
   "metadata": {},
   "outputs": [],
   "source": [
    "xl_app = xw.App(visible=True)\n",
    "wb = xl_app.books.open('./dev/리스/리스 데이터정리.xlsx')"
   ]
  },
  {
   "cell_type": "code",
   "execution_count": 35,
   "id": "84053f83-8a87-4acd-85dc-4ba2084763bc",
   "metadata": {},
   "outputs": [],
   "source": [
    "data = wb.sheets['현대'].range('B1:AA2000').value\n",
    "df = pd.DataFrame(data[1:], columns=data[0])\n",
    "df = df.dropna(subset = 'brand_name')\n",
    "df = df[df['판매여부'] != 'N']"
   ]
  },
  {
   "cell_type": "code",
   "execution_count": 36,
   "id": "39f6c124-3a43-4336-a0c0-305c8de792a8",
   "metadata": {},
   "outputs": [],
   "source": [
    "wb.close()"
   ]
  },
  {
   "cell_type": "code",
   "execution_count": 41,
   "id": "17b99fb8-91fa-45d2-964e-1414f04978ff",
   "metadata": {},
   "outputs": [
    {
     "name": "stdout",
     "output_type": "stream",
     "text": [
      "Index(['brand_name', 'brand_img', 'car_name', 'model_name', 'model_detial',\n",
      "       'car_price', 'ext_color', 'int_color', 'is_limited', '판매여부', 'brand_im',\n",
      "       'car_im', 'brand_jb', 'car_jb', 'brand_lotte', 'car_lotte',\n",
      "       'model_lotte', 'brand_mz', 'car_mz', 'brand_nh', 'car_nh', 'brand_sh',\n",
      "       'car_sh', 'brand_woori', 'car_woori', '전기차 보조금'],\n",
      "      dtype='object')\n"
     ]
    },
    {
     "data": {
      "text/html": [
       "<div>\n",
       "<style scoped>\n",
       "    .dataframe tbody tr th:only-of-type {\n",
       "        vertical-align: middle;\n",
       "    }\n",
       "\n",
       "    .dataframe tbody tr th {\n",
       "        vertical-align: top;\n",
       "    }\n",
       "\n",
       "    .dataframe thead th {\n",
       "        text-align: right;\n",
       "    }\n",
       "</style>\n",
       "<table border=\"1\" class=\"dataframe\">\n",
       "  <thead>\n",
       "    <tr style=\"text-align: right;\">\n",
       "      <th></th>\n",
       "      <th>brand_name</th>\n",
       "      <th>brand_img</th>\n",
       "      <th>car_name</th>\n",
       "      <th>model_name</th>\n",
       "      <th>model_detial</th>\n",
       "      <th>car_price</th>\n",
       "      <th>ext_color</th>\n",
       "      <th>int_color</th>\n",
       "      <th>is_limited</th>\n",
       "      <th>판매여부</th>\n",
       "      <th>...</th>\n",
       "      <th>model_lotte</th>\n",
       "      <th>brand_mz</th>\n",
       "      <th>car_mz</th>\n",
       "      <th>brand_nh</th>\n",
       "      <th>car_nh</th>\n",
       "      <th>brand_sh</th>\n",
       "      <th>car_sh</th>\n",
       "      <th>brand_woori</th>\n",
       "      <th>car_woori</th>\n",
       "      <th>전기차 보조금</th>\n",
       "    </tr>\n",
       "  </thead>\n",
       "  <tbody>\n",
       "    <tr>\n",
       "      <th>0</th>\n",
       "      <td>현대</td>\n",
       "      <td>https://www.carpan.co.kr/img/brand/1001.png</td>\n",
       "      <td>더 뉴 캐스퍼</td>\n",
       "      <td>2025년형 가솔린 1.0\\n(2024.10~)</td>\n",
       "      <td>스마트</td>\n",
       "      <td>14600000.0</td>\n",
       "      <td>[['언블리치드 아이보리(NES)', 'background-color: rgb(18...</td>\n",
       "      <td>[['블랙', 'background-color: rgb(0, 0, 0);']]</td>\n",
       "      <td>None</td>\n",
       "      <td>None</td>\n",
       "      <td>...</td>\n",
       "      <td>더 뉴캐스퍼 가솔린 1.0 스마트</td>\n",
       "      <td>1.0</td>\n",
       "      <td>2.0</td>\n",
       "      <td>2.0</td>\n",
       "      <td>61.0</td>\n",
       "      <td>2.0</td>\n",
       "      <td>79.0</td>\n",
       "      <td>None</td>\n",
       "      <td>None</td>\n",
       "      <td>None</td>\n",
       "    </tr>\n",
       "    <tr>\n",
       "      <th>1</th>\n",
       "      <td>현대</td>\n",
       "      <td>https://www.carpan.co.kr/img/brand/1001.png</td>\n",
       "      <td>더 뉴 캐스퍼</td>\n",
       "      <td>2025년형 가솔린 1.0\\n(2024.10~)</td>\n",
       "      <td>디 에센셜</td>\n",
       "      <td>16800000.0</td>\n",
       "      <td>[['선택 취소', 'background-color: rgb(182, 179, 17...</td>\n",
       "      <td>[['블랙', 'background-color: rgb(0, 0, 0);'], ['...</td>\n",
       "      <td>None</td>\n",
       "      <td>None</td>\n",
       "      <td>...</td>\n",
       "      <td>더 뉴캐스퍼 가솔린 1.0 디 에센셜</td>\n",
       "      <td>1.0</td>\n",
       "      <td>2.0</td>\n",
       "      <td>2.0</td>\n",
       "      <td>61.0</td>\n",
       "      <td>2.0</td>\n",
       "      <td>79.0</td>\n",
       "      <td>None</td>\n",
       "      <td>None</td>\n",
       "      <td>None</td>\n",
       "    </tr>\n",
       "    <tr>\n",
       "      <th>2</th>\n",
       "      <td>현대</td>\n",
       "      <td>https://www.carpan.co.kr/img/brand/1001.png</td>\n",
       "      <td>더 뉴 캐스퍼</td>\n",
       "      <td>2025년형 가솔린 1.0\\n(2024.10~)</td>\n",
       "      <td>인스퍼레이션</td>\n",
       "      <td>19800000.0</td>\n",
       "      <td>[['언블리치드 아이보리(NES)', 'background-color: rgb(18...</td>\n",
       "      <td>[['블랙', 'background-color: rgb(0, 0, 0);'], ['...</td>\n",
       "      <td>None</td>\n",
       "      <td>None</td>\n",
       "      <td>...</td>\n",
       "      <td>더 뉴캐스퍼 가솔린 1.0 인스퍼레이션</td>\n",
       "      <td>1.0</td>\n",
       "      <td>2.0</td>\n",
       "      <td>2.0</td>\n",
       "      <td>61.0</td>\n",
       "      <td>2.0</td>\n",
       "      <td>79.0</td>\n",
       "      <td>None</td>\n",
       "      <td>None</td>\n",
       "      <td>None</td>\n",
       "    </tr>\n",
       "  </tbody>\n",
       "</table>\n",
       "<p>3 rows × 26 columns</p>\n",
       "</div>"
      ],
      "text/plain": [
       "  brand_name                                    brand_img car_name  \\\n",
       "0         현대  https://www.carpan.co.kr/img/brand/1001.png  더 뉴 캐스퍼   \n",
       "1         현대  https://www.carpan.co.kr/img/brand/1001.png  더 뉴 캐스퍼   \n",
       "2         현대  https://www.carpan.co.kr/img/brand/1001.png  더 뉴 캐스퍼   \n",
       "\n",
       "                   model_name model_detial   car_price  \\\n",
       "0  2025년형 가솔린 1.0\\n(2024.10~)          스마트  14600000.0   \n",
       "1  2025년형 가솔린 1.0\\n(2024.10~)        디 에센셜  16800000.0   \n",
       "2  2025년형 가솔린 1.0\\n(2024.10~)       인스퍼레이션  19800000.0   \n",
       "\n",
       "                                           ext_color  \\\n",
       "0  [['언블리치드 아이보리(NES)', 'background-color: rgb(18...   \n",
       "1  [['선택 취소', 'background-color: rgb(182, 179, 17...   \n",
       "2  [['언블리치드 아이보리(NES)', 'background-color: rgb(18...   \n",
       "\n",
       "                                           int_color is_limited  판매여부  ...  \\\n",
       "0        [['블랙', 'background-color: rgb(0, 0, 0);']]       None  None  ...   \n",
       "1  [['블랙', 'background-color: rgb(0, 0, 0);'], ['...       None  None  ...   \n",
       "2  [['블랙', 'background-color: rgb(0, 0, 0);'], ['...       None  None  ...   \n",
       "\n",
       "             model_lotte brand_mz car_mz brand_nh car_nh brand_sh car_sh  \\\n",
       "0     더 뉴캐스퍼 가솔린 1.0 스마트      1.0    2.0      2.0   61.0      2.0   79.0   \n",
       "1   더 뉴캐스퍼 가솔린 1.0 디 에센셜      1.0    2.0      2.0   61.0      2.0   79.0   \n",
       "2  더 뉴캐스퍼 가솔린 1.0 인스퍼레이션      1.0    2.0      2.0   61.0      2.0   79.0   \n",
       "\n",
       "   brand_woori  car_woori  전기차 보조금  \n",
       "0         None       None     None  \n",
       "1         None       None     None  \n",
       "2         None       None     None  \n",
       "\n",
       "[3 rows x 26 columns]"
      ]
     },
     "execution_count": 41,
     "metadata": {},
     "output_type": "execute_result"
    }
   ],
   "source": [
    "print(df.columns)\n",
    "df.head(3)"
   ]
  },
  {
   "cell_type": "code",
   "execution_count": 38,
   "id": "bbc84c51-8589-43ed-acd1-c1c6805ebfa0",
   "metadata": {},
   "outputs": [],
   "source": [
    "xl_app = xw.App(visible=True)\n",
    "wb = xl_app.books.open('./dev/리스/견적기/bnk.xlsm')"
   ]
  },
  {
   "cell_type": "code",
   "execution_count": 39,
   "id": "da2d173a-cbe4-4fad-aed3-ec42efaf174f",
   "metadata": {},
   "outputs": [],
   "source": [
    "def brand_idx(sh, x):\n",
    "    x = x.strip().replace('\\xa0', ' ')\n",
    "    models = sh.range('J7', 'J36').value \n",
    "    models = [str(x).strip().replace('\\xa0', ' ') for x in models]\n",
    "    for idx, model in enumerate(models):\n",
    "        if model == x:\n",
    "            model_code = model[0]\n",
    "            break\n",
    "    return idx+1\n",
    "\n",
    "def car_idx(sh,x):\n",
    "    x = x.strip().replace('\\xa0', ' ')\n",
    "    models = sh.range('AM20', 'AM99').value \n",
    "    models = [str(x).strip().replace('\\xa0', ' ') for x in models]\n",
    "    for idx, model in enumerate(models):\n",
    "        if model == x:\n",
    "            model_code = model[0]\n",
    "            break\n",
    "    return idx+1\n",
    "\n",
    "def car_model_idx(sh,x):\n",
    "    x = str(x).strip().replace('\\xa0', ' ')\n",
    "    models = sh.range('AO20', 'AO256').value \n",
    "    models = [str(x).strip().replace('\\xa0', ' ') for x in models]\n",
    "    for idx, model in enumerate(models):\n",
    "        if model == x:\n",
    "            model_code = model[0]\n",
    "            break\n",
    "    return idx+1\n",
    "    \n",
    "def convert_params( brand_name, car_name, model_name, car_price, org_brand_name, org_car_name, org_model_name):\n",
    "    input_data = {\n",
    "        \"bnk\": {\n",
    "            'brand_name': [0, 'B9', brand_name],\n",
    "            'car_name': [0, 'B13', car_name],\n",
    "            'model_name': [0, 'B15', model_name],\n",
    "            'car_price': [1, 'N13', car_price],\n",
    "            'deposit': [1, 'N36', 0],\n",
    "            'downpayment': [1, 'N38', 0],\n",
    "            'period': [0, 'B39', 0],\n",
    "            'org_brand_name': org_brand_name,\n",
    "            'org_car_name': org_car_name,\n",
    "            'org_model_name': org_model_name,\n",
    "        },\n",
    "    }\n",
    "    return input_data  # 디버깅을 위해 input_data 출력\n"
   ]
  },
  {
   "cell_type": "code",
   "execution_count": 40,
   "id": "5dff88d8-7de6-44b2-9ebd-685876020f26",
   "metadata": {},
   "outputs": [
    {
     "ename": "KeyError",
     "evalue": "'brand_BNK'",
     "output_type": "error",
     "traceback": [
      "\u001b[0;31m---------------------------------------------------------------------------\u001b[0m",
      "\u001b[0;31mKeyError\u001b[0m                                  Traceback (most recent call last)",
      "File \u001b[0;32m/Library/Frameworks/Python.framework/Versions/3.11/lib/python3.11/site-packages/pandas/core/indexes/base.py:3805\u001b[0m, in \u001b[0;36mIndex.get_loc\u001b[0;34m(self, key)\u001b[0m\n\u001b[1;32m   3804\u001b[0m \u001b[38;5;28;01mtry\u001b[39;00m:\n\u001b[0;32m-> 3805\u001b[0m     \u001b[38;5;28;01mreturn\u001b[39;00m \u001b[38;5;28;43mself\u001b[39;49m\u001b[38;5;241;43m.\u001b[39;49m\u001b[43m_engine\u001b[49m\u001b[38;5;241;43m.\u001b[39;49m\u001b[43mget_loc\u001b[49m\u001b[43m(\u001b[49m\u001b[43mcasted_key\u001b[49m\u001b[43m)\u001b[49m\n\u001b[1;32m   3806\u001b[0m \u001b[38;5;28;01mexcept\u001b[39;00m \u001b[38;5;167;01mKeyError\u001b[39;00m \u001b[38;5;28;01mas\u001b[39;00m err:\n",
      "File \u001b[0;32mindex.pyx:167\u001b[0m, in \u001b[0;36mpandas._libs.index.IndexEngine.get_loc\u001b[0;34m()\u001b[0m\n",
      "File \u001b[0;32mindex.pyx:196\u001b[0m, in \u001b[0;36mpandas._libs.index.IndexEngine.get_loc\u001b[0;34m()\u001b[0m\n",
      "File \u001b[0;32mpandas/_libs/hashtable_class_helper.pxi:7081\u001b[0m, in \u001b[0;36mpandas._libs.hashtable.PyObjectHashTable.get_item\u001b[0;34m()\u001b[0m\n",
      "File \u001b[0;32mpandas/_libs/hashtable_class_helper.pxi:7089\u001b[0m, in \u001b[0;36mpandas._libs.hashtable.PyObjectHashTable.get_item\u001b[0;34m()\u001b[0m\n",
      "\u001b[0;31mKeyError\u001b[0m: 'brand_BNK'",
      "\nThe above exception was the direct cause of the following exception:\n",
      "\u001b[0;31mKeyError\u001b[0m                                  Traceback (most recent call last)",
      "Cell \u001b[0;32mIn[40], line 4\u001b[0m\n\u001b[1;32m      1\u001b[0m sheet_names \u001b[38;5;241m=\u001b[39m [\u001b[38;5;124m'\u001b[39m\u001b[38;5;124mEs1\u001b[39m\u001b[38;5;124m'\u001b[39m, \u001b[38;5;124m'\u001b[39m\u001b[38;5;124mSheet1\u001b[39m\u001b[38;5;124m'\u001b[39m]\n\u001b[1;32m      2\u001b[0m sheets \u001b[38;5;241m=\u001b[39m [wb\u001b[38;5;241m.\u001b[39msheets[i] \u001b[38;5;28;01mfor\u001b[39;00m i \u001b[38;5;129;01min\u001b[39;00m sheet_names]\n\u001b[0;32m----> 4\u001b[0m input_datum \u001b[38;5;241m=\u001b[39m \u001b[43mdf\u001b[49m\u001b[38;5;241;43m.\u001b[39;49m\u001b[43mapply\u001b[49m\u001b[43m(\u001b[49m\u001b[38;5;28;43;01mlambda\u001b[39;49;00m\u001b[43m \u001b[49m\u001b[43mx\u001b[49m\u001b[43m:\u001b[49m\u001b[43m \u001b[49m\u001b[43mconvert_params\u001b[49m\u001b[43m(\u001b[49m\u001b[43mx\u001b[49m\u001b[43m[\u001b[49m\u001b[38;5;124;43m'\u001b[39;49m\u001b[38;5;124;43mbrand_BNK\u001b[39;49m\u001b[38;5;124;43m'\u001b[39;49m\u001b[43m]\u001b[49m\u001b[43m,\u001b[49m\u001b[43m \u001b[49m\u001b[43mx\u001b[49m\u001b[43m[\u001b[49m\u001b[38;5;124;43m'\u001b[39;49m\u001b[38;5;124;43mcar_BNK\u001b[39;49m\u001b[38;5;124;43m'\u001b[39;49m\u001b[43m]\u001b[49m\u001b[43m,\u001b[49m\u001b[43m \u001b[49m\u001b[43mx\u001b[49m\u001b[43m[\u001b[49m\u001b[38;5;124;43m'\u001b[39;49m\u001b[38;5;124;43mmodel_BNK\u001b[39;49m\u001b[38;5;124;43m'\u001b[39;49m\u001b[43m]\u001b[49m\u001b[43m,\u001b[49m\u001b[43m \u001b[49m\u001b[43mx\u001b[49m\u001b[43m[\u001b[49m\u001b[38;5;124;43m'\u001b[39;49m\u001b[38;5;124;43mcar_price\u001b[39;49m\u001b[38;5;124;43m'\u001b[39;49m\u001b[43m]\u001b[49m\u001b[43m,\u001b[49m\u001b[43m \u001b[49m\u001b[43mx\u001b[49m\u001b[43m[\u001b[49m\u001b[38;5;124;43m'\u001b[39;49m\u001b[38;5;124;43mbrand_name\u001b[39;49m\u001b[38;5;124;43m'\u001b[39;49m\u001b[43m]\u001b[49m\u001b[43m,\u001b[49m\u001b[43m \u001b[49m\u001b[43mx\u001b[49m\u001b[43m[\u001b[49m\u001b[38;5;124;43m'\u001b[39;49m\u001b[38;5;124;43mcar_name\u001b[39;49m\u001b[38;5;124;43m'\u001b[39;49m\u001b[43m]\u001b[49m\u001b[43m,\u001b[49m\u001b[43m \u001b[49m\u001b[43mx\u001b[49m\u001b[43m[\u001b[49m\u001b[38;5;124;43m'\u001b[39;49m\u001b[38;5;124;43mmodel_name\u001b[39;49m\u001b[38;5;124;43m'\u001b[39;49m\u001b[43m]\u001b[49m\u001b[43m)\u001b[49m\u001b[43m,\u001b[49m\u001b[43m \u001b[49m\u001b[43maxis\u001b[49m\u001b[38;5;241;43m=\u001b[39;49m\u001b[38;5;241;43m1\u001b[39;49m\u001b[43m)\u001b[49m\n",
      "File \u001b[0;32m/Library/Frameworks/Python.framework/Versions/3.11/lib/python3.11/site-packages/pandas/core/frame.py:10374\u001b[0m, in \u001b[0;36mDataFrame.apply\u001b[0;34m(self, func, axis, raw, result_type, args, by_row, engine, engine_kwargs, **kwargs)\u001b[0m\n\u001b[1;32m  10360\u001b[0m \u001b[38;5;28;01mfrom\u001b[39;00m \u001b[38;5;21;01mpandas\u001b[39;00m\u001b[38;5;21;01m.\u001b[39;00m\u001b[38;5;21;01mcore\u001b[39;00m\u001b[38;5;21;01m.\u001b[39;00m\u001b[38;5;21;01mapply\u001b[39;00m \u001b[38;5;28;01mimport\u001b[39;00m frame_apply\n\u001b[1;32m  10362\u001b[0m op \u001b[38;5;241m=\u001b[39m frame_apply(\n\u001b[1;32m  10363\u001b[0m     \u001b[38;5;28mself\u001b[39m,\n\u001b[1;32m  10364\u001b[0m     func\u001b[38;5;241m=\u001b[39mfunc,\n\u001b[0;32m   (...)\u001b[0m\n\u001b[1;32m  10372\u001b[0m     kwargs\u001b[38;5;241m=\u001b[39mkwargs,\n\u001b[1;32m  10373\u001b[0m )\n\u001b[0;32m> 10374\u001b[0m \u001b[38;5;28;01mreturn\u001b[39;00m \u001b[43mop\u001b[49m\u001b[38;5;241;43m.\u001b[39;49m\u001b[43mapply\u001b[49m\u001b[43m(\u001b[49m\u001b[43m)\u001b[49m\u001b[38;5;241m.\u001b[39m__finalize__(\u001b[38;5;28mself\u001b[39m, method\u001b[38;5;241m=\u001b[39m\u001b[38;5;124m\"\u001b[39m\u001b[38;5;124mapply\u001b[39m\u001b[38;5;124m\"\u001b[39m)\n",
      "File \u001b[0;32m/Library/Frameworks/Python.framework/Versions/3.11/lib/python3.11/site-packages/pandas/core/apply.py:916\u001b[0m, in \u001b[0;36mFrameApply.apply\u001b[0;34m(self)\u001b[0m\n\u001b[1;32m    913\u001b[0m \u001b[38;5;28;01melif\u001b[39;00m \u001b[38;5;28mself\u001b[39m\u001b[38;5;241m.\u001b[39mraw:\n\u001b[1;32m    914\u001b[0m     \u001b[38;5;28;01mreturn\u001b[39;00m \u001b[38;5;28mself\u001b[39m\u001b[38;5;241m.\u001b[39mapply_raw(engine\u001b[38;5;241m=\u001b[39m\u001b[38;5;28mself\u001b[39m\u001b[38;5;241m.\u001b[39mengine, engine_kwargs\u001b[38;5;241m=\u001b[39m\u001b[38;5;28mself\u001b[39m\u001b[38;5;241m.\u001b[39mengine_kwargs)\n\u001b[0;32m--> 916\u001b[0m \u001b[38;5;28;01mreturn\u001b[39;00m \u001b[38;5;28;43mself\u001b[39;49m\u001b[38;5;241;43m.\u001b[39;49m\u001b[43mapply_standard\u001b[49m\u001b[43m(\u001b[49m\u001b[43m)\u001b[49m\n",
      "File \u001b[0;32m/Library/Frameworks/Python.framework/Versions/3.11/lib/python3.11/site-packages/pandas/core/apply.py:1063\u001b[0m, in \u001b[0;36mFrameApply.apply_standard\u001b[0;34m(self)\u001b[0m\n\u001b[1;32m   1061\u001b[0m \u001b[38;5;28;01mdef\u001b[39;00m \u001b[38;5;21mapply_standard\u001b[39m(\u001b[38;5;28mself\u001b[39m):\n\u001b[1;32m   1062\u001b[0m     \u001b[38;5;28;01mif\u001b[39;00m \u001b[38;5;28mself\u001b[39m\u001b[38;5;241m.\u001b[39mengine \u001b[38;5;241m==\u001b[39m \u001b[38;5;124m\"\u001b[39m\u001b[38;5;124mpython\u001b[39m\u001b[38;5;124m\"\u001b[39m:\n\u001b[0;32m-> 1063\u001b[0m         results, res_index \u001b[38;5;241m=\u001b[39m \u001b[38;5;28;43mself\u001b[39;49m\u001b[38;5;241;43m.\u001b[39;49m\u001b[43mapply_series_generator\u001b[49m\u001b[43m(\u001b[49m\u001b[43m)\u001b[49m\n\u001b[1;32m   1064\u001b[0m     \u001b[38;5;28;01melse\u001b[39;00m:\n\u001b[1;32m   1065\u001b[0m         results, res_index \u001b[38;5;241m=\u001b[39m \u001b[38;5;28mself\u001b[39m\u001b[38;5;241m.\u001b[39mapply_series_numba()\n",
      "File \u001b[0;32m/Library/Frameworks/Python.framework/Versions/3.11/lib/python3.11/site-packages/pandas/core/apply.py:1081\u001b[0m, in \u001b[0;36mFrameApply.apply_series_generator\u001b[0;34m(self)\u001b[0m\n\u001b[1;32m   1078\u001b[0m \u001b[38;5;28;01mwith\u001b[39;00m option_context(\u001b[38;5;124m\"\u001b[39m\u001b[38;5;124mmode.chained_assignment\u001b[39m\u001b[38;5;124m\"\u001b[39m, \u001b[38;5;28;01mNone\u001b[39;00m):\n\u001b[1;32m   1079\u001b[0m     \u001b[38;5;28;01mfor\u001b[39;00m i, v \u001b[38;5;129;01min\u001b[39;00m \u001b[38;5;28menumerate\u001b[39m(series_gen):\n\u001b[1;32m   1080\u001b[0m         \u001b[38;5;66;03m# ignore SettingWithCopy here in case the user mutates\u001b[39;00m\n\u001b[0;32m-> 1081\u001b[0m         results[i] \u001b[38;5;241m=\u001b[39m \u001b[38;5;28;43mself\u001b[39;49m\u001b[38;5;241;43m.\u001b[39;49m\u001b[43mfunc\u001b[49m\u001b[43m(\u001b[49m\u001b[43mv\u001b[49m\u001b[43m,\u001b[49m\u001b[43m \u001b[49m\u001b[38;5;241;43m*\u001b[39;49m\u001b[38;5;28;43mself\u001b[39;49m\u001b[38;5;241;43m.\u001b[39;49m\u001b[43margs\u001b[49m\u001b[43m,\u001b[49m\u001b[43m \u001b[49m\u001b[38;5;241;43m*\u001b[39;49m\u001b[38;5;241;43m*\u001b[39;49m\u001b[38;5;28;43mself\u001b[39;49m\u001b[38;5;241;43m.\u001b[39;49m\u001b[43mkwargs\u001b[49m\u001b[43m)\u001b[49m\n\u001b[1;32m   1082\u001b[0m         \u001b[38;5;28;01mif\u001b[39;00m \u001b[38;5;28misinstance\u001b[39m(results[i], ABCSeries):\n\u001b[1;32m   1083\u001b[0m             \u001b[38;5;66;03m# If we have a view on v, we need to make a copy because\u001b[39;00m\n\u001b[1;32m   1084\u001b[0m             \u001b[38;5;66;03m#  series_generator will swap out the underlying data\u001b[39;00m\n\u001b[1;32m   1085\u001b[0m             results[i] \u001b[38;5;241m=\u001b[39m results[i]\u001b[38;5;241m.\u001b[39mcopy(deep\u001b[38;5;241m=\u001b[39m\u001b[38;5;28;01mFalse\u001b[39;00m)\n",
      "Cell \u001b[0;32mIn[40], line 4\u001b[0m, in \u001b[0;36m<lambda>\u001b[0;34m(x)\u001b[0m\n\u001b[1;32m      1\u001b[0m sheet_names \u001b[38;5;241m=\u001b[39m [\u001b[38;5;124m'\u001b[39m\u001b[38;5;124mEs1\u001b[39m\u001b[38;5;124m'\u001b[39m, \u001b[38;5;124m'\u001b[39m\u001b[38;5;124mSheet1\u001b[39m\u001b[38;5;124m'\u001b[39m]\n\u001b[1;32m      2\u001b[0m sheets \u001b[38;5;241m=\u001b[39m [wb\u001b[38;5;241m.\u001b[39msheets[i] \u001b[38;5;28;01mfor\u001b[39;00m i \u001b[38;5;129;01min\u001b[39;00m sheet_names]\n\u001b[0;32m----> 4\u001b[0m input_datum \u001b[38;5;241m=\u001b[39m df\u001b[38;5;241m.\u001b[39mapply(\u001b[38;5;28;01mlambda\u001b[39;00m x: convert_params(\u001b[43mx\u001b[49m\u001b[43m[\u001b[49m\u001b[38;5;124;43m'\u001b[39;49m\u001b[38;5;124;43mbrand_BNK\u001b[39;49m\u001b[38;5;124;43m'\u001b[39;49m\u001b[43m]\u001b[49m, x[\u001b[38;5;124m'\u001b[39m\u001b[38;5;124mcar_BNK\u001b[39m\u001b[38;5;124m'\u001b[39m], x[\u001b[38;5;124m'\u001b[39m\u001b[38;5;124mmodel_BNK\u001b[39m\u001b[38;5;124m'\u001b[39m], x[\u001b[38;5;124m'\u001b[39m\u001b[38;5;124mcar_price\u001b[39m\u001b[38;5;124m'\u001b[39m], x[\u001b[38;5;124m'\u001b[39m\u001b[38;5;124mbrand_name\u001b[39m\u001b[38;5;124m'\u001b[39m], x[\u001b[38;5;124m'\u001b[39m\u001b[38;5;124mcar_name\u001b[39m\u001b[38;5;124m'\u001b[39m], x[\u001b[38;5;124m'\u001b[39m\u001b[38;5;124mmodel_name\u001b[39m\u001b[38;5;124m'\u001b[39m]), axis\u001b[38;5;241m=\u001b[39m\u001b[38;5;241m1\u001b[39m)\n",
      "File \u001b[0;32m/Library/Frameworks/Python.framework/Versions/3.11/lib/python3.11/site-packages/pandas/core/series.py:1121\u001b[0m, in \u001b[0;36mSeries.__getitem__\u001b[0;34m(self, key)\u001b[0m\n\u001b[1;32m   1118\u001b[0m     \u001b[38;5;28;01mreturn\u001b[39;00m \u001b[38;5;28mself\u001b[39m\u001b[38;5;241m.\u001b[39m_values[key]\n\u001b[1;32m   1120\u001b[0m \u001b[38;5;28;01melif\u001b[39;00m key_is_scalar:\n\u001b[0;32m-> 1121\u001b[0m     \u001b[38;5;28;01mreturn\u001b[39;00m \u001b[38;5;28;43mself\u001b[39;49m\u001b[38;5;241;43m.\u001b[39;49m\u001b[43m_get_value\u001b[49m\u001b[43m(\u001b[49m\u001b[43mkey\u001b[49m\u001b[43m)\u001b[49m\n\u001b[1;32m   1123\u001b[0m \u001b[38;5;66;03m# Convert generator to list before going through hashable part\u001b[39;00m\n\u001b[1;32m   1124\u001b[0m \u001b[38;5;66;03m# (We will iterate through the generator there to check for slices)\u001b[39;00m\n\u001b[1;32m   1125\u001b[0m \u001b[38;5;28;01mif\u001b[39;00m is_iterator(key):\n",
      "File \u001b[0;32m/Library/Frameworks/Python.framework/Versions/3.11/lib/python3.11/site-packages/pandas/core/series.py:1237\u001b[0m, in \u001b[0;36mSeries._get_value\u001b[0;34m(self, label, takeable)\u001b[0m\n\u001b[1;32m   1234\u001b[0m     \u001b[38;5;28;01mreturn\u001b[39;00m \u001b[38;5;28mself\u001b[39m\u001b[38;5;241m.\u001b[39m_values[label]\n\u001b[1;32m   1236\u001b[0m \u001b[38;5;66;03m# Similar to Index.get_value, but we do not fall back to positional\u001b[39;00m\n\u001b[0;32m-> 1237\u001b[0m loc \u001b[38;5;241m=\u001b[39m \u001b[38;5;28;43mself\u001b[39;49m\u001b[38;5;241;43m.\u001b[39;49m\u001b[43mindex\u001b[49m\u001b[38;5;241;43m.\u001b[39;49m\u001b[43mget_loc\u001b[49m\u001b[43m(\u001b[49m\u001b[43mlabel\u001b[49m\u001b[43m)\u001b[49m\n\u001b[1;32m   1239\u001b[0m \u001b[38;5;28;01mif\u001b[39;00m is_integer(loc):\n\u001b[1;32m   1240\u001b[0m     \u001b[38;5;28;01mreturn\u001b[39;00m \u001b[38;5;28mself\u001b[39m\u001b[38;5;241m.\u001b[39m_values[loc]\n",
      "File \u001b[0;32m/Library/Frameworks/Python.framework/Versions/3.11/lib/python3.11/site-packages/pandas/core/indexes/base.py:3812\u001b[0m, in \u001b[0;36mIndex.get_loc\u001b[0;34m(self, key)\u001b[0m\n\u001b[1;32m   3807\u001b[0m     \u001b[38;5;28;01mif\u001b[39;00m \u001b[38;5;28misinstance\u001b[39m(casted_key, \u001b[38;5;28mslice\u001b[39m) \u001b[38;5;129;01mor\u001b[39;00m (\n\u001b[1;32m   3808\u001b[0m         \u001b[38;5;28misinstance\u001b[39m(casted_key, abc\u001b[38;5;241m.\u001b[39mIterable)\n\u001b[1;32m   3809\u001b[0m         \u001b[38;5;129;01mand\u001b[39;00m \u001b[38;5;28many\u001b[39m(\u001b[38;5;28misinstance\u001b[39m(x, \u001b[38;5;28mslice\u001b[39m) \u001b[38;5;28;01mfor\u001b[39;00m x \u001b[38;5;129;01min\u001b[39;00m casted_key)\n\u001b[1;32m   3810\u001b[0m     ):\n\u001b[1;32m   3811\u001b[0m         \u001b[38;5;28;01mraise\u001b[39;00m InvalidIndexError(key)\n\u001b[0;32m-> 3812\u001b[0m     \u001b[38;5;28;01mraise\u001b[39;00m \u001b[38;5;167;01mKeyError\u001b[39;00m(key) \u001b[38;5;28;01mfrom\u001b[39;00m \u001b[38;5;21;01merr\u001b[39;00m\n\u001b[1;32m   3813\u001b[0m \u001b[38;5;28;01mexcept\u001b[39;00m \u001b[38;5;167;01mTypeError\u001b[39;00m:\n\u001b[1;32m   3814\u001b[0m     \u001b[38;5;66;03m# If we have a listlike key, _check_indexing_error will raise\u001b[39;00m\n\u001b[1;32m   3815\u001b[0m     \u001b[38;5;66;03m#  InvalidIndexError. Otherwise we fall through and re-raise\u001b[39;00m\n\u001b[1;32m   3816\u001b[0m     \u001b[38;5;66;03m#  the TypeError.\u001b[39;00m\n\u001b[1;32m   3817\u001b[0m     \u001b[38;5;28mself\u001b[39m\u001b[38;5;241m.\u001b[39m_check_indexing_error(key)\n",
      "\u001b[0;31mKeyError\u001b[0m: 'brand_BNK'"
     ]
    }
   ],
   "source": [
    "sheet_names = ['Es1', 'Sheet1']\n",
    "sheets = [wb.sheets[i] for i in sheet_names]\n",
    "\n",
    "input_datum = df.apply(lambda x: convert_params(x['brand_BNK'], x['car_BNK'], x['model_BNK'], x['car_price'], x['brand_name'], x['car_name'], x['model_name']), axis=1)"
   ]
  },
  {
   "cell_type": "code",
   "execution_count": 8,
   "id": "a0844b7b-fe16-4ee2-954f-ff0a794399c8",
   "metadata": {
    "scrolled": true
   },
   "outputs": [
    {
     "name": "stderr",
     "output_type": "stream",
     "text": [
      "\n",
      "KeyboardInterrupt\n",
      "\n"
     ]
    }
   ],
   "source": [
    "deposits = [0.1, 0.2, 0.3, 0.4, 0.5]\n",
    "downpayments = [0.1, 0.2, 0.3, 0.4, 0.5] \n",
    "periods = [1, 2, 3] # 60, 48, 36 \n",
    "\n",
    "output = []\n",
    "\n",
    "for idx, input_data in enumerate(input_datum):\n",
    "    inputs = []  \n",
    "    for combo in itertools.product(deposits, downpayments, periods):\n",
    "        modified_input = copy.deepcopy(input_data)\n",
    "        modified_input['bnk']['deposit'][-1] = combo[0]\n",
    "        modified_input['bnk']['downpayment'][-1] = combo[1]\n",
    "        modified_input['bnk']['period'][-1] = combo[2]\n",
    "        inputs.append(modified_input)\n",
    "    for input_data in inputs:\n",
    "        for i in input_data['bnk'].items():\n",
    "            if 'org' not in i[0]:\n",
    "                val = i[1][2]\n",
    "                if i[0] == 'brand_name':\n",
    "                    d = brand_idx(sheets[0], val)\n",
    "                elif i[0] == 'car_name':\n",
    "                    d = car_idx(sheets[0], val)\n",
    "                elif i[0] == 'model_name':\n",
    "                    d = car_model_idx(sheets[0], val)        \n",
    "                else:\n",
    "                    d = i[1][2]\n",
    "                sheets[i[1][0]].range(i[1][1]).value = d \n",
    "        output.append(\n",
    "            {\n",
    "                \"input\" : input_data,\n",
    "                \"output\": sheets[1].range('N51').value\n",
    "            }\n",
    "        )\n",
    "    if idx==2:\n",
    "        break"
   ]
  },
  {
   "cell_type": "code",
   "execution_count": 10,
   "id": "c5160d84-0be0-42dc-a001-7f7db6896f4a",
   "metadata": {},
   "outputs": [],
   "source": [
    "records = []\n",
    "for entry in output:\n",
    "    input_data = entry['input']['bnk']\n",
    "    output_value = entry['output']\n",
    "    record = {\n",
    "        'carpan_brand_name': input_data['org_brand_name'].strip().replace('\\xa0', ' '),\n",
    "        'carpan_car_name': input_data['org_car_name'].strip().replace('\\xa0', ' '),\n",
    "        'carpan_model_name': input_data['org_model_name'].strip().replace('\\xa0', ' '),\n",
    "        'provider' : 'bnk',\n",
    "        'brand_name': input_data['brand_name'][2].strip().replace('\\xa0', ' '),\n",
    "        'car_name': input_data['car_name'][2].strip().replace('\\xa0', ' '),\n",
    "        'model_name': input_data['model_name'][2].strip().replace('\\xa0', ' '),\n",
    "        'car_price': input_data['car_price'][2],\n",
    "        'deposit': input_data['deposit'][2],\n",
    "        'downpayment': input_data['downpayment'][2],\n",
    "        'period': input_data['period'][2],\n",
    "        'output': output_value\n",
    "    }\n",
    "    records.append(record)\n",
    "# DataFrame 생성\n",
    "df = pd.DataFrame(records)"
   ]
  },
  {
   "cell_type": "code",
   "execution_count": 11,
   "id": "b7d03b15-2029-42f7-aa48-682cfef7f18d",
   "metadata": {},
   "outputs": [],
   "source": [
    "def convert_period(x):\n",
    "    if x == 1:\n",
    "        return '60개월'\n",
    "    if x == 2:\n",
    "        return '48개월'\n",
    "    if x == 3:\n",
    "        return '36개월'\n",
    "    \n",
    "df['period'] = df['period'].apply(lambda x: convert_period(x))"
   ]
  },
  {
   "cell_type": "code",
   "execution_count": 12,
   "id": "76601588-3753-4478-a6de-70faecc0ee79",
   "metadata": {},
   "outputs": [],
   "source": [
    "df.to_csv('./bnk_현대_캐스퍼.csv', encoding = 'cp949') "
   ]
  },
  {
   "cell_type": "code",
   "execution_count": 9,
   "id": "77b7d1f0-1102-4173-9976-07dc161cdac5",
   "metadata": {},
   "outputs": [],
   "source": [
    "wb.close()"
   ]
  },
  {
   "cell_type": "code",
   "execution_count": 16,
   "id": "4b1f2f3c-12ae-4a0c-a333-7e6a2bcee5ee",
   "metadata": {},
   "outputs": [
    {
     "data": {
      "text/plain": [
       "array(['2025년형 가솔린 1.0\\n(2024.10~)'], dtype=object)"
      ]
     },
     "execution_count": 16,
     "metadata": {},
     "output_type": "execute_result"
    }
   ],
   "source": []
  },
  {
   "cell_type": "code",
   "execution_count": null,
   "id": "86495a94-9f08-43a0-93c4-7643cdefd14e",
   "metadata": {},
   "outputs": [],
   "source": []
  }
 ],
 "metadata": {
  "kernelspec": {
   "display_name": "Python 3 (ipykernel)",
   "language": "python",
   "name": "python3"
  },
  "language_info": {
   "codemirror_mode": {
    "name": "ipython",
    "version": 3
   },
   "file_extension": ".py",
   "mimetype": "text/x-python",
   "name": "python",
   "nbconvert_exporter": "python",
   "pygments_lexer": "ipython3",
   "version": "3.11.9"
  }
 },
 "nbformat": 4,
 "nbformat_minor": 5
}
