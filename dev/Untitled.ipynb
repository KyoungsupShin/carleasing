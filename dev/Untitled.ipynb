{
 "cells": [
  {
   "cell_type": "code",
   "execution_count": 2,
   "id": "9f698431-c12c-42bd-976f-89fac853f32b",
   "metadata": {},
   "outputs": [],
   "source": [
    "import glob\n",
    "import xlwings as xw"
   ]
  },
  {
   "cell_type": "markdown",
   "id": "7b11e815-3745-48dd-91e3-c487bd2de122",
   "metadata": {},
   "source": [
    "# INPUT"
   ]
  },
  {
   "cell_type": "code",
   "execution_count": 111,
   "id": "4672d098-a430-400d-af69-589edfa75078",
   "metadata": {},
   "outputs": [],
   "source": [
    "g_input_data = { #sheet_idx, #cell, #value\n",
    "        'brand_name' : '현대',\n",
    "        'car_name' : '더 뉴 아반떼',\n",
    "        'model_name' : '2025년형 가솔린 1.6(2024.06~)',\n",
    "        'car_price' : 19940000,\n",
    "        'deposit' : 0,\n",
    "        'downpayment' : 0,\n",
    "        'period' : 2,\n",
    "}\n",
    "\n",
    "input_data = {\n",
    "    \"bnk\" : { #sheet_idx, #cell, #value\n",
    "        'brand_name' : [0, 'B9', '현대'],\n",
    "        'car_name' : [0, 'B13', '아반떼'],\n",
    "        'model_name' : [0, 'B15', ' 더 뉴 아반떼 가솔린 1.6 모던 2025년형'],\n",
    "        'car_price' : [1, 'N13', 19940000],\n",
    "        'deposit' : [1, 'N36', 0],\n",
    "        'downpayment' : [1, 'N36', 0],\n",
    "        'period' : [0, 'B39', 2],\n",
    "    },\n",
    "    \"mz\" : { #sheet_idx, #cell, #value\n",
    "        'brand_name' : [0, 'AT2', 1],\n",
    "        'car_name' : [1, 'F5', 4],\n",
    "        'car_price' : [2, 'P9', 19940000],\n",
    "        'deposit' : [2, 'AZ11', 0],\n",
    "        'downpayment' : [2, 'AZ16', 0],\n",
    "        'period' : [0, 'Z6', 3],\n",
    "    },\n",
    "\n",
    "    \"woori\" : { #sheet_idx, #cell, #value\n",
    "        'brand_name' : [0, 'BA6', '현대'],\n",
    "        'car_name' : [0, 'BA7', '올 뉴 아반떼 1.6 가솔린'],\n",
    "        'car_price' : [0, 'BA12', 19940000],\n",
    "        'deposit' : [0, 'BA43', 0],\n",
    "        'downpayment' : [0, 'BA41', 0],\n",
    "        'period' : [0, 'BA39', 48],\n",
    "    },\n",
    "\n",
    "    \"im\" : { #sheet_idx, #cell, #value\n",
    "        'brand_name' : [0, 'S7', '현대'],\n",
    "        'car_name' : [1, 'AS7', '더 뉴 아반떼(CN7) G1.6 (가솔린)'],\n",
    "        'car_price' : [1, 'AS11', 19940000],\n",
    "        'deposit' : [1, 'AS30', 0],\n",
    "        'downpayment' : [1, 'AS34', 0],\n",
    "        'period' : [1, 'AS28', 36],\n",
    "    },\n",
    "\n",
    "    \"lotte\" : { #sheet_idx, #cell, #value\n",
    "        'brand_name' : [0, 'N11', 1],\n",
    "        'car_name' : [0, 'P11', 22],\n",
    "        'model_name' : [0, 'R11', 1],\n",
    "        'car_price' : [1, 'BQ10', 19940000],\n",
    "        'deposit' : [1, 'BK26', 0],\n",
    "        'downpayment' : [1, 'BD25', 0],\n",
    "        'period' : [1, 'BD24', 48],\n",
    "    },\n",
    "    \n",
    "    \"sh\" : { #sheet_idx, #cell, #value\n",
    "        'brand_name' : [0, 'B9', '현대'],\n",
    "        'car_name' : [1, 'AE7', '더 뉴 아반떼 가솔린 1.6'],\n",
    "        'car_price' : [1, 'AF8', 19940000],\n",
    "        'deposit' : [1, 'AC35', 0],\n",
    "        'downpayment' : [1, 'AC36', 0],\n",
    "        'period' : [1, 'AC32', 48],\n",
    "    },\n",
    "\n",
    "\n",
    "}"
   ]
  },
  {
   "cell_type": "markdown",
   "id": "068fae39-2299-4827-840b-62b57db14b44",
   "metadata": {},
   "source": [
    "# BNK"
   ]
  },
  {
   "cell_type": "code",
   "execution_count": 155,
   "id": "299de6a3-0e39-4a52-b901-ed6d777ae171",
   "metadata": {},
   "outputs": [],
   "source": [
    "xl_app = xw.App(visible=True)\n",
    "wb = xl_app.books.open('./dev/리스/견적기/bnk.xlsm')"
   ]
  },
  {
   "cell_type": "code",
   "execution_count": 156,
   "id": "004c17d4-2584-4f6c-8be6-69a6a7a2ec6d",
   "metadata": {},
   "outputs": [],
   "source": [
    "def brand_idx(sh, x):\n",
    "    x = x.strip()\n",
    "    models = sh.range('J7', 'J36').value \n",
    "    models = [str(x).strip().replace('\\xa0', ' ') for x in models]\n",
    "    for idx, model in enumerate(models):\n",
    "        if model == x:\n",
    "            model_code = model[0]\n",
    "            break\n",
    "    return idx+1\n",
    "\n",
    "def car_idx(sh,x):\n",
    "    x = x.strip()\n",
    "    models = sh.range('AM20', 'AM99').value \n",
    "    models = [str(x).strip().replace('\\xa0', ' ') for x in models]\n",
    "    for idx, model in enumerate(models):\n",
    "        if model == x:\n",
    "            model_code = model[0]\n",
    "            break\n",
    "    return idx+1\n",
    "\n",
    "def car_model_idx(sh,x):\n",
    "    x = x.strip()\n",
    "    models = sh.range('AO20', 'AO256').value \n",
    "    models = [str(x).strip().replace('\\xa0', ' ') for x in models]\n",
    "    for idx, model in enumerate(models):\n",
    "        if model == x:\n",
    "            model_code = model[0]\n",
    "            break\n",
    "    return idx+1"
   ]
  },
  {
   "cell_type": "code",
   "execution_count": 147,
   "id": "5b09614f-29b2-482c-b284-65c448c4d949",
   "metadata": {},
   "outputs": [],
   "source": [
    "xl_app.calculation = 'manual'\n",
    "xl_app.enable_events = False"
   ]
  },
  {
   "cell_type": "code",
   "execution_count": 159,
   "id": "ace1b5cd-2861-4ecf-8275-183f408c71f9",
   "metadata": {},
   "outputs": [],
   "source": [
    "sheet_names = ['Sheet1', 'Es1']\n",
    "sheets = [wb.sheets[i] for i in sheet_names]\n",
    "\n",
    "for i in input_data['bnk'].items():\n",
    "    val = i[1][2]\n",
    "    if i[0] == 'brand_name':\n",
    "        d = brand_idx(sheets[1], val)\n",
    "        print(d)\n",
    "    elif i[0] == 'car_name':\n",
    "        d = car_idx(sheets[1], val)\n",
    "\n",
    "    elif i[0] == 'model_name':\n",
    "        d = car_model_idx(sheets[1], val)\n",
    "    else:\n",
    "        d = i[1][2]\n",
    "    sheets[i[1][0]].range(i[1][1]).value = d #'현대' #브랜드 => 맵핑 테이블 변경"
   ]
  },
  {
   "cell_type": "code",
   "execution_count": 164,
   "id": "12449893-88c9-4864-bf27-8a71996c9654",
   "metadata": {},
   "outputs": [],
   "source": [
    "xl_app.calculation = 'automatic'\n",
    "xl_app.enable_events = True"
   ]
  },
  {
   "cell_type": "code",
   "execution_count": 165,
   "id": "9ff3a704-6c94-45fc-bba8-4e8d13fc9139",
   "metadata": {},
   "outputs": [],
   "source": [
    "wb.close()"
   ]
  },
  {
   "cell_type": "markdown",
   "id": "a0fb6eae-3645-4774-96fa-53c89f9d76e5",
   "metadata": {},
   "source": [
    "# WOORI"
   ]
  },
  {
   "cell_type": "code",
   "execution_count": 3,
   "id": "882c070f-9da8-430e-8ff8-ba4cc103743c",
   "metadata": {},
   "outputs": [],
   "source": [
    "xl_app = xw.App(visible=True)\n",
    "wb = xl_app.books.open('./dev/리스/견적기/woori.xlsx')\n",
    "xl_app.calculation = 'manual'\n",
    "xl_app.enable_events = False"
   ]
  },
  {
   "cell_type": "code",
   "execution_count": 4,
   "id": "59038bd5-1c73-46f1-8f4a-e1c9577fef96",
   "metadata": {},
   "outputs": [],
   "source": [
    "sheet = wb.sheets['운용리스']"
   ]
  },
  {
   "cell_type": "code",
   "execution_count": 5,
   "id": "a0daf489-43e2-449b-befe-7b724e43e31e",
   "metadata": {},
   "outputs": [],
   "source": [
    "sheet.range('BA6').value = '현대' #브랜드\n",
    "sheet.range('BA7').value =  '올 뉴 아반떼 1.6 가솔린' #차랑명\n",
    "sheet.range('BA12').value = 19940000 #차량가격\t\n",
    "sheet.range('BA43').value = 0 #보증금\n",
    "sheet.range('BA41').value = 0 #선수금\n",
    "sheet.range('BA39').value = 48 #리스기간\n",
    "sheet.range('L24').value =  0 #월납입금"
   ]
  },
  {
   "cell_type": "code",
   "execution_count": 6,
   "id": "299436c9-dfe0-4141-8df2-e948123fde2d",
   "metadata": {},
   "outputs": [],
   "source": [
    "xl_app.calculation = 'automatic'\n",
    "xl_app.enable_events = True"
   ]
  },
  {
   "cell_type": "code",
   "execution_count": 7,
   "id": "2d1addf0-d9ef-4131-93d4-9f7c33a36dea",
   "metadata": {},
   "outputs": [],
   "source": [
    "wb.close()"
   ]
  },
  {
   "cell_type": "markdown",
   "id": "b5656ae7-106d-4ea6-82a7-b9595747e43e",
   "metadata": {},
   "source": [
    "# SH"
   ]
  },
  {
   "cell_type": "code",
   "execution_count": 26,
   "id": "0ebcacde-16eb-44da-bd43-8814fe0afb9e",
   "metadata": {},
   "outputs": [],
   "source": [
    "xl_app = xw.App(visible=True)\n",
    "wb = xl_app.books.open('./dev/리스/견적기/sh.xlsx')\n",
    "\n",
    "# def brand_idx(x):\n",
    "#     x = x.strip()\n",
    "#     models = sheet1.range('B10', 'B20').value \n",
    "#     models = [str(x).strip().replace('\\xa0', ' ') for x in models]\n",
    "#     for idx, model in enumerate(models):\n",
    "#         if model == x:\n",
    "#             model_code = model[0]\n",
    "#             break\n",
    "#     return idx+1\n",
    "    \n",
    "xl_app.calculation = 'manual'\n",
    "xl_app.enable_events = False"
   ]
  },
  {
   "cell_type": "code",
   "execution_count": 27,
   "id": "b0303a81-e09f-4c25-96f0-66e2bf1e8f28",
   "metadata": {},
   "outputs": [],
   "source": [
    "sheet1 = wb.sheets['리스모델']\n",
    "sheet2 = wb.sheets['리스_비교']"
   ]
  },
  {
   "cell_type": "code",
   "execution_count": 33,
   "id": "46993154-5874-4e7b-bee3-1c744d940110",
   "metadata": {},
   "outputs": [],
   "source": [
    "sheet1.range('B9').value = 1 #브랜드\n",
    "sheet2.range('AE7').value =  '더 뉴 아반떼 가솔린 1.6 ' #차랑명 띄어쓰기있음.\n",
    "sheet2.range('AF8').value = 19940000 #차량가격\t\n",
    "sheet2.range('AC35').value = 0 #보증금\n",
    "sheet2.range('AC36').value = 0 #선수금\n",
    "sheet2.range('AC32').value = 48 #리스기간\n",
    "sheet2.range('K28').value =  0 #월납입금"
   ]
  },
  {
   "cell_type": "code",
   "execution_count": 28,
   "id": "0917dc6e-8843-44cb-bf52-0d7ab0ee054f",
   "metadata": {},
   "outputs": [],
   "source": [
    "xl_app.calculation = 'automatic'\n",
    "xl_app.enable_events = True"
   ]
  },
  {
   "cell_type": "code",
   "execution_count": 34,
   "id": "01c201ff-74ae-4c30-9118-af4d7f268683",
   "metadata": {},
   "outputs": [],
   "source": [
    "wb.close()"
   ]
  },
  {
   "cell_type": "markdown",
   "id": "e1acee80-bcc8-4e0c-b321-a0d0febb54a2",
   "metadata": {},
   "source": [
    "# MZ"
   ]
  },
  {
   "cell_type": "code",
   "execution_count": 166,
   "id": "e1edce9d-9b81-4f5e-af70-8a243a3e8be5",
   "metadata": {},
   "outputs": [],
   "source": [
    "xl_app = xw.App(visible=True)\n",
    "wb = xl_app.books.open('./dev/리스/견적기/mz.xlsm')\n",
    "\n",
    "# def brand_idx(x):\n",
    "#     x = x.strip()\n",
    "#     models = sheet2.range('D4', 'D10').value \n",
    "#     models = [str(x).strip().replace('\\xa0', ' ') for x in models]\n",
    "#     for idx, model in enumerate(models):\n",
    "#         if model == x:\n",
    "#             model_code = model[0]\n",
    "#             break\n",
    "#     return idx+1"
   ]
  },
  {
   "cell_type": "code",
   "execution_count": 167,
   "id": "8383a375-a0ad-461a-8fb2-7c3b95fceac2",
   "metadata": {},
   "outputs": [],
   "source": [
    "xl_app.calculation = 'manual'\n",
    "xl_app.enable_events = False"
   ]
  },
  {
   "cell_type": "code",
   "execution_count": 168,
   "id": "4ea7b7f9-dbc9-45ea-9c1f-ca3d3516c136",
   "metadata": {},
   "outputs": [],
   "source": [
    "sheet1 = wb.sheets['리스수식']\n",
    "sheet2 = wb.sheets['차량정보']\n",
    "sheet3 = wb.sheets['Sheet1']"
   ]
  },
  {
   "cell_type": "code",
   "execution_count": 169,
   "id": "943883a9-9196-486c-a0ee-af59d16c681c",
   "metadata": {},
   "outputs": [],
   "source": [
    "sheet1.range('AT2').value = 1 #브랜드\n",
    "sheet2.range('F5').value =  4 #차랑명\n",
    "sheet3.range('P9').value = 19940000 #차량가격\t\n",
    "sheet3.range('AZ11').value = 0 #보증금\n",
    "sheet3.range('AZ16').value = 0 #선수금\n",
    "sheet1.range('Z6').value = 3 #리스기간\n",
    "# sheet3.range('AZ26').value =  0 #월납입금"
   ]
  },
  {
   "cell_type": "code",
   "execution_count": 170,
   "id": "9515411a-ce66-4eb4-880a-3155a3c0f75b",
   "metadata": {},
   "outputs": [],
   "source": [
    "xl_app.calculation = 'automatic'\n",
    "xl_app.enable_events = True"
   ]
  },
  {
   "cell_type": "code",
   "execution_count": 171,
   "id": "dea5903b-801c-4f1e-a3ad-d2d8327a2663",
   "metadata": {},
   "outputs": [],
   "source": [
    "wb.close()"
   ]
  },
  {
   "cell_type": "markdown",
   "id": "55209275-262b-4951-93f9-dcc728fba7fa",
   "metadata": {},
   "source": [
    "# IM"
   ]
  },
  {
   "cell_type": "code",
   "execution_count": 53,
   "id": "f6f498d7-c60f-4836-ac8d-aef9745e0e04",
   "metadata": {},
   "outputs": [],
   "source": [
    "xl_app = xw.App(visible=True)\n",
    "wb = xl_app.books.open('./dev/리스/견적기/im.xlsm')"
   ]
  },
  {
   "cell_type": "code",
   "execution_count": 47,
   "id": "c14466ee-e649-46f1-8e51-9aefe65ac4c6",
   "metadata": {},
   "outputs": [],
   "source": [
    "xl_app.calculation = 'manual'\n",
    "xl_app.enable_events = False"
   ]
  },
  {
   "cell_type": "code",
   "execution_count": 54,
   "id": "9911f6e5-9b6b-48ee-bcf4-c561d981fed3",
   "metadata": {},
   "outputs": [],
   "source": [
    "sheet1 = wb.sheets['AG 입력시트']\n",
    "sheet2 = wb.sheets['운용리스_단일']"
   ]
  },
  {
   "cell_type": "code",
   "execution_count": 59,
   "id": "922cefd9-d970-4946-8066-8d8752bbf3ce",
   "metadata": {},
   "outputs": [],
   "source": [
    "sheet1.range('S7').value = '현대' #브랜드\n",
    "sheet2.range('AS7').value =  '더 뉴 아반떼(CN7) G1.6 (가솔린)' #차랑명\n",
    "sheet2.range('AS11').value = 19940000 #차량가격\t\n",
    "sheet2.range('AS30').value = 0 #보증금\n",
    "sheet2.range('AS34').value = 0 #선수금\n",
    "sheet2.range('AS28').value = 36 #리스기간\n",
    "# sheet2.range('AS27').value =  0 #월납입금"
   ]
  },
  {
   "cell_type": "code",
   "execution_count": 60,
   "id": "08d4a333-75e1-4629-ba90-fc0d0425414e",
   "metadata": {},
   "outputs": [],
   "source": [
    "xl_app.calculation = 'automatic'\n",
    "xl_app.enable_events = True"
   ]
  },
  {
   "cell_type": "code",
   "execution_count": 61,
   "id": "36bdfddb-c107-480b-bff3-ee7ed7276a2b",
   "metadata": {},
   "outputs": [],
   "source": [
    "wb.close()"
   ]
  },
  {
   "cell_type": "markdown",
   "id": "651225cc-af76-43b6-8e34-5c8ad973b875",
   "metadata": {},
   "source": [
    "# Lotte"
   ]
  },
  {
   "cell_type": "code",
   "execution_count": 80,
   "id": "05fb4987-7f41-490f-a831-f9948932e84c",
   "metadata": {},
   "outputs": [],
   "source": [
    "xl_app = xw.App(visible=True)\n",
    "wb = xl_app.books.open('./dev/리스/견적기/lotte.xlsx')"
   ]
  },
  {
   "cell_type": "code",
   "execution_count": null,
   "id": "b243f126-9f16-4fef-b832-f8489f7786d5",
   "metadata": {},
   "outputs": [],
   "source": [
    "xl_app.calculation = 'manual'\n",
    "xl_app.enable_events = False"
   ]
  },
  {
   "cell_type": "code",
   "execution_count": 81,
   "id": "465f25fd-d4d4-4d9e-ab4d-5e28fcb8e7bb",
   "metadata": {},
   "outputs": [],
   "source": [
    "sheet1 = wb.sheets['DB관리']\n",
    "sheet2 = wb.sheets['운용리스_고잔가']"
   ]
  },
  {
   "cell_type": "code",
   "execution_count": 84,
   "id": "ee5f1fe1-890f-489b-90c3-60ce92345384",
   "metadata": {},
   "outputs": [],
   "source": [
    "sheet1.range('N11').value = 1 #브랜드\n",
    "sheet1.range('P11').value =  22\n",
    "sheet1.range('R11').value =  1 #세부모델명\n",
    "sheet2.range('BQ10').value = 19940000 #차량가격\t\n",
    "sheet2.range('BK26').value = 0 #보증금\n",
    "sheet2.range('BD25').value = 0 #선수금\n",
    "sheet2.range('BD24').value =  48 #리스기간\n",
    "# sheet2.range('AG14').value =  0 #월납입금"
   ]
  },
  {
   "cell_type": "code",
   "execution_count": 85,
   "id": "86c0d31a-a095-45a7-b175-d00162bc655e",
   "metadata": {},
   "outputs": [],
   "source": [
    "xl_app.calculation = 'automatic'\n",
    "xl_app.enable_events = True"
   ]
  },
  {
   "cell_type": "code",
   "execution_count": 86,
   "id": "9935e99d-9bbd-4e47-a64b-a4609faca20e",
   "metadata": {},
   "outputs": [],
   "source": [
    "wb.close()"
   ]
  },
  {
   "cell_type": "code",
   "execution_count": null,
   "id": "a0a57884-ca17-4de6-8567-f6e286ed2ff2",
   "metadata": {},
   "outputs": [],
   "source": []
  },
  {
   "cell_type": "code",
   "execution_count": null,
   "id": "6d271631-5444-4f5d-b361-11e024b04e0c",
   "metadata": {},
   "outputs": [],
   "source": []
  }
 ],
 "metadata": {
  "kernelspec": {
   "display_name": "Python 3 (ipykernel)",
   "language": "python",
   "name": "python3"
  },
  "language_info": {
   "codemirror_mode": {
    "name": "ipython",
    "version": 3
   },
   "file_extension": ".py",
   "mimetype": "text/x-python",
   "name": "python",
   "nbconvert_exporter": "python",
   "pygments_lexer": "ipython3",
   "version": "3.11.9"
  }
 },
 "nbformat": 4,
 "nbformat_minor": 5
}
