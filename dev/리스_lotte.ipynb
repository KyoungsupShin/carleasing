{
 "cells": [
  {
   "cell_type": "code",
   "execution_count": 4,
   "id": "d2dff94b-1bee-4bc6-977c-97ebf92eb58e",
   "metadata": {},
   "outputs": [],
   "source": [
    "!pkill -f \"Microsoft Excel\""
   ]
  },
  {
   "cell_type": "code",
   "execution_count": 1,
   "id": "6324f66a-8594-4add-a1d4-262e2a777105",
   "metadata": {},
   "outputs": [],
   "source": [
    "import glob\n",
    "import xlwings as xw\n",
    "import pandas as pd\n",
    "import itertools\n",
    "import copy\n",
    "import numpy as np\n",
    "import sys\n",
    "# from tqdm import tqdm\n",
    "from tqdm.notebook import tqdm\n",
    "sys.path.append('../')\n",
    "from modules import * "
   ]
  },
  {
   "cell_type": "code",
   "execution_count": 2,
   "id": "bbc84c51-8589-43ed-acd1-c1c6805ebfa0",
   "metadata": {},
   "outputs": [],
   "source": [
    "df = pd.read_csv('./리스/정리데이터/현대.csv', encoding = 'cp949')"
   ]
  },
  {
   "cell_type": "code",
   "execution_count": 3,
   "id": "f1502eb5-0ce0-40a3-b8cd-d8e3340d6667",
   "metadata": {},
   "outputs": [],
   "source": [
    "deposits = [0, 0.1, 0.2, 0.3, 0.4]\n",
    "downpayments = [0, 0.1, 0.2, 0.3, 0.4] \n",
    "periods = [60,48,36] # 60, 48, 36 \n",
    "provider = 'lotte'\n",
    "sheet_names = ['DB관리', '운용리스_고잔가']\n",
    "input_cols = ['brand_lotte', 'car_lotte', 'model_lotte', 'car_price', 'brand_name', 'car_name', 'model_name', 'model_detial']\n",
    "\n",
    "xl_app = xw.App(visible=False)\n",
    "xl_app.enable_events = False\n",
    "xl_app.display_alerts = False  # 경고 메시지 비활성화\n",
    "\n",
    "wb = xl_app.books.open(f'./리스/견적기/{provider}.xlsx')"
   ]
  },
  {
   "cell_type": "code",
   "execution_count": 4,
   "id": "3c4df4f8-298b-4e8b-a289-6096e3f56567",
   "metadata": {},
   "outputs": [
    {
     "data": {
      "application/vnd.jupyter.widget-view+json": {
       "model_id": "2f313ee7b8414847ab523ed6354c119d",
       "version_major": 2,
       "version_minor": 0
      },
      "text/plain": [
       "Processing Data:   0%|          | 0/25200 [00:00<?, ?it/s]"
      ]
     },
     "metadata": {},
     "output_type": "display_data"
    },
    {
     "name": "stderr",
     "output_type": "stream",
     "text": [
      "Exception ignored in: <bound method IPythonKernel._clean_thread_parent_frames of <ipykernel.ipkernel.IPythonKernel object at 0x10533a000>>\n",
      "Traceback (most recent call last):\n",
      "  File \"/Users/ks.shin/Library/Python/3.12/lib/python/site-packages/ipykernel/ipkernel.py\", line 775, in _clean_thread_parent_frames\n",
      "    def _clean_thread_parent_frames(\n",
      "\n",
      "KeyboardInterrupt: \n",
      "Exception ignored in: <bound method IPythonKernel._clean_thread_parent_frames of <ipykernel.ipkernel.IPythonKernel object at 0x10533a000>>\n",
      "Traceback (most recent call last):\n",
      "  File \"/Users/ks.shin/Library/Python/3.12/lib/python/site-packages/ipykernel/ipkernel.py\", line 775, in _clean_thread_parent_frames\n",
      "    def _clean_thread_parent_frames(\n",
      "\n",
      "KeyboardInterrupt: \n"
     ]
    },
    {
     "ename": "KeyboardInterrupt",
     "evalue": "",
     "output_type": "error",
     "traceback": [
      "\u001b[0;31m---------------------------------------------------------------------------\u001b[0m",
      "\u001b[0;31mKeyboardInterrupt\u001b[0m                         Traceback (most recent call last)",
      "Cell \u001b[0;32mIn[4], line 20\u001b[0m\n\u001b[1;32m     18\u001b[0m         \u001b[38;5;28;01melse\u001b[39;00m:\n\u001b[1;32m     19\u001b[0m             d \u001b[38;5;241m=\u001b[39m i[\u001b[38;5;241m1\u001b[39m][\u001b[38;5;241m2\u001b[39m]\n\u001b[0;32m---> 20\u001b[0m         \u001b[43msheets\u001b[49m\u001b[43m[\u001b[49m\u001b[43mi\u001b[49m\u001b[43m[\u001b[49m\u001b[38;5;241;43m1\u001b[39;49m\u001b[43m]\u001b[49m\u001b[43m[\u001b[49m\u001b[38;5;241;43m0\u001b[39;49m\u001b[43m]\u001b[49m\u001b[43m]\u001b[49m\u001b[38;5;241;43m.\u001b[39;49m\u001b[43mrange\u001b[49m\u001b[43m(\u001b[49m\u001b[43mi\u001b[49m\u001b[43m[\u001b[49m\u001b[38;5;241;43m1\u001b[39;49m\u001b[43m]\u001b[49m\u001b[43m[\u001b[49m\u001b[38;5;241;43m1\u001b[39;49m\u001b[43m]\u001b[49m\u001b[43m)\u001b[49m\u001b[38;5;241;43m.\u001b[39;49m\u001b[43mvalue\u001b[49m \u001b[38;5;241m=\u001b[39m d \n\u001b[1;32m     21\u001b[0m output\u001b[38;5;241m.\u001b[39mappend(\n\u001b[1;32m     22\u001b[0m     {\n\u001b[1;32m     23\u001b[0m         \u001b[38;5;124m\"\u001b[39m\u001b[38;5;124minput\u001b[39m\u001b[38;5;124m\"\u001b[39m : input_data,\n\u001b[1;32m     24\u001b[0m         \u001b[38;5;124m\"\u001b[39m\u001b[38;5;124moutput\u001b[39m\u001b[38;5;124m\"\u001b[39m: sheets[\u001b[38;5;241m1\u001b[39m]\u001b[38;5;241m.\u001b[39mrange(\u001b[38;5;124m'\u001b[39m\u001b[38;5;124mAG14\u001b[39m\u001b[38;5;124m'\u001b[39m)\u001b[38;5;241m.\u001b[39mvalue\n\u001b[1;32m     25\u001b[0m     }\n\u001b[1;32m     26\u001b[0m )\n\u001b[1;32m     28\u001b[0m \u001b[38;5;28;01mif\u001b[39;00m idx \u001b[38;5;241m%\u001b[39m \u001b[38;5;241m100\u001b[39m \u001b[38;5;241m==\u001b[39m \u001b[38;5;241m0\u001b[39m:\n",
      "File \u001b[0;32m~/Library/Python/3.12/lib/python/site-packages/xlwings/main.py:2482\u001b[0m, in \u001b[0;36mRange.value\u001b[0;34m(self, data)\u001b[0m\n\u001b[1;32m   2480\u001b[0m \u001b[38;5;129m@value\u001b[39m\u001b[38;5;241m.\u001b[39msetter\n\u001b[1;32m   2481\u001b[0m \u001b[38;5;28;01mdef\u001b[39;00m \u001b[38;5;21mvalue\u001b[39m(\u001b[38;5;28mself\u001b[39m, data):\n\u001b[0;32m-> 2482\u001b[0m     \u001b[43mconversion\u001b[49m\u001b[38;5;241;43m.\u001b[39;49m\u001b[43mwrite\u001b[49m\u001b[43m(\u001b[49m\u001b[43mdata\u001b[49m\u001b[43m,\u001b[49m\u001b[43m \u001b[49m\u001b[38;5;28;43mself\u001b[39;49m\u001b[43m,\u001b[49m\u001b[43m \u001b[49m\u001b[38;5;28;43mself\u001b[39;49m\u001b[38;5;241;43m.\u001b[39;49m\u001b[43m_options\u001b[49m\u001b[43m)\u001b[49m\n",
      "File \u001b[0;32m~/Library/Python/3.12/lib/python/site-packages/xlwings/conversion/__init__.py:102\u001b[0m, in \u001b[0;36mwrite\u001b[0;34m(value, rng, options, engine_name)\u001b[0m\n\u001b[1;32m     98\u001b[0m pipeline \u001b[38;5;241m=\u001b[39m (\n\u001b[1;32m     99\u001b[0m     accessors\u001b[38;5;241m.\u001b[39mget(convert, convert)\u001b[38;5;241m.\u001b[39mrouter(value, rng, options)\u001b[38;5;241m.\u001b[39mwriter(options)\n\u001b[1;32m    100\u001b[0m )\n\u001b[1;32m    101\u001b[0m ctx \u001b[38;5;241m=\u001b[39m ConversionContext(rng\u001b[38;5;241m=\u001b[39mrng, value\u001b[38;5;241m=\u001b[39mvalue, engine_name\u001b[38;5;241m=\u001b[39mengine_name)\n\u001b[0;32m--> 102\u001b[0m \u001b[43mpipeline\u001b[49m\u001b[43m(\u001b[49m\u001b[43mctx\u001b[49m\u001b[43m)\u001b[49m\n\u001b[1;32m    103\u001b[0m \u001b[38;5;28;01mreturn\u001b[39;00m ctx\u001b[38;5;241m.\u001b[39mvalue\n",
      "File \u001b[0;32m~/Library/Python/3.12/lib/python/site-packages/xlwings/conversion/framework.py:79\u001b[0m, in \u001b[0;36mPipeline.__call__\u001b[0;34m(self, *args, **kwargs)\u001b[0m\n\u001b[1;32m     77\u001b[0m \u001b[38;5;28;01mdef\u001b[39;00m \u001b[38;5;21m__call__\u001b[39m(\u001b[38;5;28mself\u001b[39m, \u001b[38;5;241m*\u001b[39margs, \u001b[38;5;241m*\u001b[39m\u001b[38;5;241m*\u001b[39mkwargs):\n\u001b[1;32m     78\u001b[0m     \u001b[38;5;28;01mfor\u001b[39;00m stage \u001b[38;5;129;01min\u001b[39;00m \u001b[38;5;28mself\u001b[39m:\n\u001b[0;32m---> 79\u001b[0m         \u001b[43mstage\u001b[49m\u001b[43m(\u001b[49m\u001b[38;5;241;43m*\u001b[39;49m\u001b[43margs\u001b[49m\u001b[43m,\u001b[49m\u001b[43m \u001b[49m\u001b[38;5;241;43m*\u001b[39;49m\u001b[38;5;241;43m*\u001b[39;49m\u001b[43mkwargs\u001b[49m\u001b[43m)\u001b[49m\n",
      "File \u001b[0;32m~/Library/Python/3.12/lib/python/site-packages/xlwings/conversion/standard.py:78\u001b[0m, in \u001b[0;36mWriteValueToRangeStage.__call__\u001b[0;34m(self, ctx)\u001b[0m\n\u001b[1;32m     75\u001b[0m \u001b[38;5;28;01mif\u001b[39;00m \u001b[38;5;129;01mnot\u001b[39;00m scalar:\n\u001b[1;32m     76\u001b[0m     ctx\u001b[38;5;241m.\u001b[39mrange \u001b[38;5;241m=\u001b[39m ctx\u001b[38;5;241m.\u001b[39mrange\u001b[38;5;241m.\u001b[39mresize(\u001b[38;5;28mlen\u001b[39m(ctx\u001b[38;5;241m.\u001b[39mvalue), \u001b[38;5;28mlen\u001b[39m(ctx\u001b[38;5;241m.\u001b[39mvalue[\u001b[38;5;241m0\u001b[39m]))\n\u001b[0;32m---> 78\u001b[0m \u001b[38;5;28;43mself\u001b[39;49m\u001b[38;5;241;43m.\u001b[39;49m\u001b[43m_write_value\u001b[49m\u001b[43m(\u001b[49m\u001b[43mctx\u001b[49m\u001b[38;5;241;43m.\u001b[39;49m\u001b[43mrange\u001b[49m\u001b[43m,\u001b[49m\u001b[43m \u001b[49m\u001b[43mctx\u001b[49m\u001b[38;5;241;43m.\u001b[39;49m\u001b[43mvalue\u001b[49m\u001b[43m,\u001b[49m\u001b[43m \u001b[49m\u001b[43mscalar\u001b[49m\u001b[43m)\u001b[49m\n",
      "File \u001b[0;32m~/Library/Python/3.12/lib/python/site-packages/xlwings/conversion/standard.py:66\u001b[0m, in \u001b[0;36mWriteValueToRangeStage._write_value\u001b[0;34m(self, rng, value, scalar)\u001b[0m\n\u001b[1;32m     62\u001b[0m         rng[\n\u001b[1;32m     63\u001b[0m             ix \u001b[38;5;241m*\u001b[39m chunksize : ix \u001b[38;5;241m*\u001b[39m chunksize \u001b[38;5;241m+\u001b[39m chunksize, :\n\u001b[1;32m     64\u001b[0m         ]\u001b[38;5;241m.\u001b[39mraw_value \u001b[38;5;241m=\u001b[39m value_chunk\n\u001b[1;32m     65\u001b[0m \u001b[38;5;28;01melse\u001b[39;00m:\n\u001b[0;32m---> 66\u001b[0m     \u001b[43mrng\u001b[49m\u001b[38;5;241;43m.\u001b[39;49m\u001b[43mraw_value\u001b[49m \u001b[38;5;241m=\u001b[39m value\n",
      "File \u001b[0;32m~/Library/Python/3.12/lib/python/site-packages/xlwings/main.py:2044\u001b[0m, in \u001b[0;36mRange.raw_value\u001b[0;34m(self, data)\u001b[0m\n\u001b[1;32m   2042\u001b[0m \u001b[38;5;129m@raw_value\u001b[39m\u001b[38;5;241m.\u001b[39msetter\n\u001b[1;32m   2043\u001b[0m \u001b[38;5;28;01mdef\u001b[39;00m \u001b[38;5;21mraw_value\u001b[39m(\u001b[38;5;28mself\u001b[39m, data):\n\u001b[0;32m-> 2044\u001b[0m     \u001b[38;5;28;43mself\u001b[39;49m\u001b[38;5;241;43m.\u001b[39;49m\u001b[43mimpl\u001b[49m\u001b[38;5;241;43m.\u001b[39;49m\u001b[43mraw_value\u001b[49m \u001b[38;5;241m=\u001b[39m data\n",
      "File \u001b[0;32m~/Library/Python/3.12/lib/python/site-packages/xlwings/_xlmac.py:881\u001b[0m, in \u001b[0;36mRange.raw_value\u001b[0;34m(self, value)\u001b[0m\n\u001b[1;32m    878\u001b[0m \u001b[38;5;129m@raw_value\u001b[39m\u001b[38;5;241m.\u001b[39msetter\n\u001b[1;32m    879\u001b[0m \u001b[38;5;28;01mdef\u001b[39;00m \u001b[38;5;21mraw_value\u001b[39m(\u001b[38;5;28mself\u001b[39m, value):\n\u001b[1;32m    880\u001b[0m     \u001b[38;5;28;01mif\u001b[39;00m \u001b[38;5;28mself\u001b[39m\u001b[38;5;241m.\u001b[39mxl \u001b[38;5;129;01mis\u001b[39;00m \u001b[38;5;129;01mnot\u001b[39;00m \u001b[38;5;28;01mNone\u001b[39;00m:\n\u001b[0;32m--> 881\u001b[0m         \u001b[38;5;28;43mself\u001b[39;49m\u001b[38;5;241;43m.\u001b[39;49m\u001b[43mxl\u001b[49m\u001b[38;5;241;43m.\u001b[39;49m\u001b[43mvalue\u001b[49m\u001b[38;5;241;43m.\u001b[39;49m\u001b[43mset\u001b[49m\u001b[43m(\u001b[49m\u001b[43mvalue\u001b[49m\u001b[43m)\u001b[49m\n",
      "File \u001b[0;32m~/Library/Python/3.12/lib/python/site-packages/aeosa/appscript/reference.py:479\u001b[0m, in \u001b[0;36mCommand.__call__\u001b[0;34m(self, *args, **kargs)\u001b[0m\n\u001b[1;32m    477\u001b[0m \u001b[38;5;66;03m# build and send the Apple event, returning its result, if any\u001b[39;00m\n\u001b[1;32m    478\u001b[0m \u001b[38;5;28;01mtry\u001b[39;00m:\n\u001b[0;32m--> 479\u001b[0m \t\u001b[38;5;28;01mreturn\u001b[39;00m \u001b[38;5;28;43mself\u001b[39;49m\u001b[38;5;241;43m.\u001b[39;49m\u001b[43mAS_appdata\u001b[49m\u001b[38;5;241;43m.\u001b[39;49m\u001b[43mtarget\u001b[49m\u001b[43m(\u001b[49m\u001b[43m)\u001b[49m\u001b[38;5;241;43m.\u001b[39;49m\u001b[43mevent\u001b[49m\u001b[43m(\u001b[49m\u001b[38;5;28;43mself\u001b[39;49m\u001b[38;5;241;43m.\u001b[39;49m\u001b[43m_code\u001b[49m\u001b[43m,\u001b[49m\u001b[43m \u001b[49m\u001b[43mparams\u001b[49m\u001b[43m,\u001b[49m\u001b[43m \u001b[49m\u001b[43matts\u001b[49m\u001b[43m,\u001b[49m\u001b[43m \u001b[49m\u001b[43mcodecs\u001b[49m\u001b[38;5;241;43m=\u001b[39;49m\u001b[38;5;28;43mself\u001b[39;49m\u001b[38;5;241;43m.\u001b[39;49m\u001b[43mAS_appdata\u001b[49m\u001b[43m)\u001b[49m\u001b[38;5;241;43m.\u001b[39;49m\u001b[43msend\u001b[49m\u001b[43m(\u001b[49m\u001b[43mtimeout\u001b[49m\u001b[43m,\u001b[49m\u001b[43m \u001b[49m\u001b[43msendflags\u001b[49m\u001b[43m)\u001b[49m\n\u001b[1;32m    480\u001b[0m \u001b[38;5;28;01mexcept\u001b[39;00m aem\u001b[38;5;241m.\u001b[39mEventError \u001b[38;5;28;01mas\u001b[39;00m e:\n\u001b[1;32m    481\u001b[0m \t\u001b[38;5;28;01mif\u001b[39;00m e\u001b[38;5;241m.\u001b[39merrornumber \u001b[38;5;241m==\u001b[39m \u001b[38;5;241m-\u001b[39m\u001b[38;5;241m1708\u001b[39m \u001b[38;5;129;01mand\u001b[39;00m \u001b[38;5;28mself\u001b[39m\u001b[38;5;241m.\u001b[39m_code \u001b[38;5;241m==\u001b[39m \u001b[38;5;124mb\u001b[39m\u001b[38;5;124m'\u001b[39m\u001b[38;5;124mascrnoop\u001b[39m\u001b[38;5;124m'\u001b[39m:\n",
      "File \u001b[0;32m~/Library/Python/3.12/lib/python/site-packages/aeosa/aem/aemsend.py:74\u001b[0m, in \u001b[0;36mEvent.send\u001b[0;34m(self, timeout, flags)\u001b[0m\n\u001b[1;32m     59\u001b[0m \u001b[38;5;250m\u001b[39m\u001b[38;5;124;03m\"\"\"Send this Apple event (may be called any number of times).\u001b[39;00m\n\u001b[1;32m     60\u001b[0m \u001b[38;5;124;03m\ttimeout : int | aem.k.DefaultTimeout | aem.k.NoTimeout -- number of ticks to wait for target process\u001b[39;00m\n\u001b[1;32m     61\u001b[0m \u001b[38;5;124;03m\t\t\tto reply before raising timeout error (default=DefaultTimeout)\u001b[39;00m\n\u001b[0;32m   (...)\u001b[0m\n\u001b[1;32m     71\u001b[0m \u001b[38;5;124;03m\t\t[ aem.k.CanSwitchLayer ]\u001b[39;00m\n\u001b[1;32m     72\u001b[0m \u001b[38;5;124;03m\"\"\"\u001b[39;00m\n\u001b[1;32m     73\u001b[0m \u001b[38;5;28;01mtry\u001b[39;00m:\n\u001b[0;32m---> 74\u001b[0m \treplyevent \u001b[38;5;241m=\u001b[39m \u001b[38;5;28;43mself\u001b[39;49m\u001b[38;5;241;43m.\u001b[39;49m\u001b[43m_sendproc\u001b[49m\u001b[43m(\u001b[49m\u001b[38;5;28;43mself\u001b[39;49m\u001b[38;5;241;43m.\u001b[39;49m\u001b[43mAEM_event\u001b[49m\u001b[43m,\u001b[49m\u001b[43m \u001b[49m\u001b[43mflags\u001b[49m\u001b[43m,\u001b[49m\u001b[43m \u001b[49m\u001b[43mtimeout\u001b[49m\u001b[43m)\u001b[49m\n\u001b[1;32m     75\u001b[0m \u001b[38;5;28;01mexcept\u001b[39;00m MacOSError \u001b[38;5;28;01mas\u001b[39;00m err: \u001b[38;5;66;03m# an OS-level error occurred\u001b[39;00m\n\u001b[1;32m     76\u001b[0m \t\u001b[38;5;28;01mif\u001b[39;00m \u001b[38;5;129;01mnot\u001b[39;00m (\u001b[38;5;28mself\u001b[39m\u001b[38;5;241m.\u001b[39m_eventcode \u001b[38;5;241m==\u001b[39m \u001b[38;5;124mb\u001b[39m\u001b[38;5;124m'\u001b[39m\u001b[38;5;124maevtquit\u001b[39m\u001b[38;5;124m'\u001b[39m \u001b[38;5;129;01mand\u001b[39;00m err\u001b[38;5;241m.\u001b[39margs[\u001b[38;5;241m0\u001b[39m] \u001b[38;5;241m==\u001b[39m \u001b[38;5;241m-\u001b[39m\u001b[38;5;241m609\u001b[39m): \u001b[38;5;66;03m# Ignore invalid connection error (-609) when quitting\u001b[39;00m\n",
      "File \u001b[0;32m~/Library/Python/3.12/lib/python/site-packages/aeosa/aem/aemsend.py:23\u001b[0m, in \u001b[0;36msendappleevent\u001b[0;34m(evt, flags, timeout)\u001b[0m\n\u001b[1;32m     16\u001b[0m \u001b[38;5;28;01mdef\u001b[39;00m \u001b[38;5;21msendappleevent\u001b[39m(evt, flags, timeout):\n\u001b[1;32m     17\u001b[0m \u001b[38;5;250m\t\u001b[39m\u001b[38;5;124;03m\"\"\" Default function for sending Apple events.\u001b[39;00m\n\u001b[1;32m     18\u001b[0m \u001b[38;5;124;03m\t\tevt : aem.ae.AEDesc -- the AppleEvent to send\u001b[39;00m\n\u001b[1;32m     19\u001b[0m \u001b[38;5;124;03m\t\tflags : int -- send mode flags\u001b[39;00m\n\u001b[1;32m     20\u001b[0m \u001b[38;5;124;03m\t\ttimeout : int -- timeout delay\u001b[39;00m\n\u001b[1;32m     21\u001b[0m \u001b[38;5;124;03m\t\tResult : aem.ae.AEDesc -- the reply AppleEvent\u001b[39;00m\n\u001b[1;32m     22\u001b[0m \u001b[38;5;124;03m\t\"\"\"\u001b[39;00m\n\u001b[0;32m---> 23\u001b[0m \t\u001b[38;5;28;01mreturn\u001b[39;00m \u001b[43mevt\u001b[49m\u001b[38;5;241;43m.\u001b[39;49m\u001b[43msend\u001b[49m\u001b[43m(\u001b[49m\u001b[43mflags\u001b[49m\u001b[43m,\u001b[49m\u001b[43m \u001b[49m\u001b[43mtimeout\u001b[49m\u001b[43m)\u001b[49m\n",
      "\u001b[0;31mKeyboardInterrupt\u001b[0m: "
     ]
    }
   ],
   "source": [
    "sheets = [wb.sheets[i] for i in sheet_names]\n",
    "input_datum = df.apply(lambda x: convert_params(provider, *x[input_cols]), axis=1).reset_index(drop = True)\n",
    "# input_datum = [i for i in input_datum if np.isnan(i[provider]['brand_name'][2]) == False]\n",
    "inputs = generate_parameters(provider, input_datum, deposits, downpayments, periods)\n",
    "\n",
    "output = []\n",
    "for idx, input_data in enumerate(tqdm(inputs, desc=\"Processing Data\")):\n",
    "    if idx>=0:\n",
    "        for i in input_data[provider].items():\n",
    "            if 'org' not in i[0]:\n",
    "                val = i[1][2]\n",
    "                if i[0] == 'brand_name':\n",
    "                    d = val\n",
    "                elif i[0] == 'car_name':\n",
    "                    d = val\n",
    "                elif i[0] == 'model_name':\n",
    "                    d = val        \n",
    "                else:\n",
    "                    d = i[1][2]\n",
    "                sheets[i[1][0]].range(i[1][1]).value = d \n",
    "        output.append(\n",
    "            {\n",
    "                \"input\" : input_data,\n",
    "                \"output\": sheets[1].range('AG14').value\n",
    "            }\n",
    "        )\n",
    "    \n",
    "        if idx % 100 == 0:\n",
    "            records, record = merge_output(provider, output)        \n",
    "            df_out = pd.DataFrame(records)\n",
    "            df_out['period'] = df_out['period'].apply(lambda x: convert_period(provider,x))\n",
    "            df_out.to_csv(f\"\"\"./리스/결과/{provider}/{record['provider']}.csv\"\"\", encoding = 'cp949') "
   ]
  },
  {
   "cell_type": "code",
   "execution_count": null,
   "id": "1cf7baef-8581-4e1e-93f4-749fda11a0e4",
   "metadata": {},
   "outputs": [],
   "source": []
  }
 ],
 "metadata": {
  "kernelspec": {
   "display_name": "Python 3 (ipykernel)",
   "language": "python",
   "name": "python3"
  },
  "language_info": {
   "codemirror_mode": {
    "name": "ipython",
    "version": 3
   },
   "file_extension": ".py",
   "mimetype": "text/x-python",
   "name": "python",
   "nbconvert_exporter": "python",
   "pygments_lexer": "ipython3",
   "version": "3.12.3"
  }
 },
 "nbformat": 4,
 "nbformat_minor": 5
}
