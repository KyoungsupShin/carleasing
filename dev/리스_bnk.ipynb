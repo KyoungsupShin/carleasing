{
 "cells": [
  {
   "cell_type": "code",
   "execution_count": 13,
   "id": "d2dff94b-1bee-4bc6-977c-97ebf92eb58e",
   "metadata": {},
   "outputs": [],
   "source": [
    "!pkill -f \"Microsoft Excel\""
   ]
  },
  {
   "cell_type": "code",
   "execution_count": 14,
   "id": "6324f66a-8594-4add-a1d4-262e2a777105",
   "metadata": {},
   "outputs": [],
   "source": [
    "import glob\n",
    "import xlwings as xw\n",
    "import pandas as pd\n",
    "import itertools\n",
    "import copy\n",
    "import numpy as np\n",
    "import sys\n",
    "# from tqdm import tqdm\n",
    "from tqdm.notebook import tqdm\n",
    "sys.path.append('../')\n",
    "from modules import * "
   ]
  },
  {
   "cell_type": "code",
   "execution_count": 15,
   "id": "92dd7698-3e03-4bd6-b7ed-0fa34d90115b",
   "metadata": {},
   "outputs": [],
   "source": [
    "df = pd.read_csv('./리스/정리데이터/현대.csv', encoding = 'cp949')"
   ]
  },
  {
   "cell_type": "code",
   "execution_count": 16,
   "id": "9ca25bd1-469e-42c2-a9e2-9052f8622ef7",
   "metadata": {},
   "outputs": [],
   "source": [
    "deposits = [0, 0.1, 0.2, 0.3, 0.4]\n",
    "downpayments = [0, 0.1, 0.2, 0.3, 0.4] \n",
    "periods = [1, 2, 3] # 60, 48, 36 \n",
    "provider = 'bnk'\n",
    "sheet_names = ['Es1', 'Sheet1']\n",
    "input_cols = ['brand_bnk', 'car_bnk', 'model_bnk', 'car_price', 'brand_name', 'car_name', 'model_name', 'model_detial']\n",
    "\n",
    "xl_app = xw.App(visible=False)\n",
    "xl_app.display_alerts = False  # 경고 메시지 비활성화\n",
    "xl_app.enable_events = False\n",
    "wb = xl_app.books.open(f'./리스/견적기/{provider}.xlsm')"
   ]
  },
  {
   "cell_type": "code",
   "execution_count": 17,
   "id": "a0844b7b-fe16-4ee2-954f-ff0a794399c8",
   "metadata": {
    "scrolled": true
   },
   "outputs": [
    {
     "data": {
      "application/vnd.jupyter.widget-view+json": {
       "model_id": "fe6e16bb59004e939e9ef6504867a937",
       "version_major": 2,
       "version_minor": 0
      },
      "text/plain": [
       "Processing Data:   0%|          | 0/25200 [00:00<?, ?it/s]"
      ]
     },
     "metadata": {},
     "output_type": "display_data"
    },
    {
     "ename": "KeyboardInterrupt",
     "evalue": "",
     "output_type": "error",
     "traceback": [
      "\u001b[0;31m---------------------------------------------------------------------------\u001b[0m",
      "\u001b[0;31mKeyboardInterrupt\u001b[0m                         Traceback (most recent call last)",
      "Cell \u001b[0;32mIn[17], line 16\u001b[0m\n\u001b[1;32m     14\u001b[0m     d \u001b[38;5;241m=\u001b[39m bnk_car_idx(sheets[\u001b[38;5;241m0\u001b[39m], val)\n\u001b[1;32m     15\u001b[0m \u001b[38;5;28;01melif\u001b[39;00m i[\u001b[38;5;241m0\u001b[39m] \u001b[38;5;241m==\u001b[39m \u001b[38;5;124m'\u001b[39m\u001b[38;5;124mmodel_name\u001b[39m\u001b[38;5;124m'\u001b[39m:\n\u001b[0;32m---> 16\u001b[0m     d \u001b[38;5;241m=\u001b[39m \u001b[43mbnk_car_model_idx\u001b[49m\u001b[43m(\u001b[49m\u001b[43msheets\u001b[49m\u001b[43m[\u001b[49m\u001b[38;5;241;43m0\u001b[39;49m\u001b[43m]\u001b[49m\u001b[43m,\u001b[49m\u001b[43m \u001b[49m\u001b[43mval\u001b[49m\u001b[43m)\u001b[49m        \n\u001b[1;32m     17\u001b[0m \u001b[38;5;28;01melse\u001b[39;00m:\n\u001b[1;32m     18\u001b[0m     d \u001b[38;5;241m=\u001b[39m i[\u001b[38;5;241m1\u001b[39m][\u001b[38;5;241m2\u001b[39m]\n",
      "File \u001b[0;32m~/Desktop/carleasing/dev/modules.py:29\u001b[0m, in \u001b[0;36mbnk_car_model_idx\u001b[0;34m(sh, x)\u001b[0m\n\u001b[1;32m     27\u001b[0m \u001b[38;5;28;01mdef\u001b[39;00m \u001b[38;5;21mbnk_car_model_idx\u001b[39m(sh,x):\n\u001b[1;32m     28\u001b[0m     x \u001b[38;5;241m=\u001b[39m \u001b[38;5;28mstr\u001b[39m(x)\u001b[38;5;241m.\u001b[39mstrip()\u001b[38;5;241m.\u001b[39mreplace(\u001b[38;5;124m'\u001b[39m\u001b[38;5;130;01m\\xa0\u001b[39;00m\u001b[38;5;124m'\u001b[39m, \u001b[38;5;124m'\u001b[39m\u001b[38;5;124m \u001b[39m\u001b[38;5;124m'\u001b[39m)\n\u001b[0;32m---> 29\u001b[0m     models \u001b[38;5;241m=\u001b[39m \u001b[43msh\u001b[49m\u001b[38;5;241;43m.\u001b[39;49m\u001b[43mrange\u001b[49m\u001b[43m(\u001b[49m\u001b[38;5;124;43m'\u001b[39;49m\u001b[38;5;124;43mAO20\u001b[39;49m\u001b[38;5;124;43m'\u001b[39;49m\u001b[43m,\u001b[49m\u001b[43m \u001b[49m\u001b[38;5;124;43m'\u001b[39;49m\u001b[38;5;124;43mAO256\u001b[39;49m\u001b[38;5;124;43m'\u001b[39;49m\u001b[43m)\u001b[49m\u001b[38;5;241;43m.\u001b[39;49m\u001b[43mvalue\u001b[49m \n\u001b[1;32m     30\u001b[0m     models \u001b[38;5;241m=\u001b[39m [\u001b[38;5;28mstr\u001b[39m(x)\u001b[38;5;241m.\u001b[39mstrip()\u001b[38;5;241m.\u001b[39mreplace(\u001b[38;5;124m'\u001b[39m\u001b[38;5;130;01m\\xa0\u001b[39;00m\u001b[38;5;124m'\u001b[39m, \u001b[38;5;124m'\u001b[39m\u001b[38;5;124m \u001b[39m\u001b[38;5;124m'\u001b[39m) \u001b[38;5;28;01mfor\u001b[39;00m x \u001b[38;5;129;01min\u001b[39;00m models]\n\u001b[1;32m     31\u001b[0m     \u001b[38;5;28;01mfor\u001b[39;00m idx, model \u001b[38;5;129;01min\u001b[39;00m \u001b[38;5;28menumerate\u001b[39m(models):\n",
      "File \u001b[0;32m~/Library/Python/3.12/lib/python/site-packages/xlwings/main.py:2478\u001b[0m, in \u001b[0;36mRange.value\u001b[0;34m(self)\u001b[0m\n\u001b[1;32m   2466\u001b[0m \u001b[38;5;129m@property\u001b[39m\n\u001b[1;32m   2467\u001b[0m \u001b[38;5;28;01mdef\u001b[39;00m \u001b[38;5;21mvalue\u001b[39m(\u001b[38;5;28mself\u001b[39m):\n\u001b[1;32m   2468\u001b[0m \u001b[38;5;250m    \u001b[39m\u001b[38;5;124;03m\"\"\"\u001b[39;00m\n\u001b[1;32m   2469\u001b[0m \u001b[38;5;124;03m    Gets and sets the values for the given Range. See :meth:`xlwings.Range.options`\u001b[39;00m\n\u001b[1;32m   2470\u001b[0m \u001b[38;5;124;03m    about how to set options, e.g., to transform it into a DataFrame or how to set\u001b[39;00m\n\u001b[0;32m   (...)\u001b[0m\n\u001b[1;32m   2476\u001b[0m \u001b[38;5;124;03m             see :meth:`xlwings.Range.options`\u001b[39;00m\n\u001b[1;32m   2477\u001b[0m \u001b[38;5;124;03m    \"\"\"\u001b[39;00m\n\u001b[0;32m-> 2478\u001b[0m     \u001b[38;5;28;01mreturn\u001b[39;00m \u001b[43mconversion\u001b[49m\u001b[38;5;241;43m.\u001b[39;49m\u001b[43mread\u001b[49m\u001b[43m(\u001b[49m\u001b[38;5;28;43mself\u001b[39;49m\u001b[43m,\u001b[49m\u001b[43m \u001b[49m\u001b[38;5;28;43;01mNone\u001b[39;49;00m\u001b[43m,\u001b[49m\u001b[43m \u001b[49m\u001b[38;5;28;43mself\u001b[39;49m\u001b[38;5;241;43m.\u001b[39;49m\u001b[43m_options\u001b[49m\u001b[43m)\u001b[49m\n",
      "File \u001b[0;32m~/Library/Python/3.12/lib/python/site-packages/xlwings/conversion/__init__.py:76\u001b[0m, in \u001b[0;36mread\u001b[0;34m(rng, value, options, engine_name)\u001b[0m\n\u001b[1;32m     74\u001b[0m convert \u001b[38;5;241m=\u001b[39m options\u001b[38;5;241m.\u001b[39mget(\u001b[38;5;124m\"\u001b[39m\u001b[38;5;124mconvert\u001b[39m\u001b[38;5;124m\"\u001b[39m, \u001b[38;5;28;01mNone\u001b[39;00m)\n\u001b[1;32m     75\u001b[0m pipeline \u001b[38;5;241m=\u001b[39m accessors\u001b[38;5;241m.\u001b[39mget(convert, convert)\u001b[38;5;241m.\u001b[39mreader(options)\n\u001b[0;32m---> 76\u001b[0m ctx \u001b[38;5;241m=\u001b[39m \u001b[43mConversionContext\u001b[49m\u001b[43m(\u001b[49m\u001b[43mrng\u001b[49m\u001b[38;5;241;43m=\u001b[39;49m\u001b[43mrng\u001b[49m\u001b[43m,\u001b[49m\u001b[43m \u001b[49m\u001b[43mvalue\u001b[49m\u001b[38;5;241;43m=\u001b[39;49m\u001b[43mvalue\u001b[49m\u001b[43m,\u001b[49m\u001b[43m \u001b[49m\u001b[43mengine_name\u001b[49m\u001b[38;5;241;43m=\u001b[39;49m\u001b[43mengine_name\u001b[49m\u001b[43m)\u001b[49m\n\u001b[1;32m     77\u001b[0m pipeline(ctx)\n\u001b[1;32m     78\u001b[0m \u001b[38;5;28;01mreturn\u001b[39;00m ctx\u001b[38;5;241m.\u001b[39mvalue\n",
      "File \u001b[0;32m~/Library/Python/3.12/lib/python/site-packages/xlwings/conversion/framework.py:13\u001b[0m, in \u001b[0;36mConversionContext.__init__\u001b[0;34m(self, rng, value, engine_name)\u001b[0m\n\u001b[1;32m     10\u001b[0m     \u001b[38;5;28mself\u001b[39m\u001b[38;5;241m.\u001b[39mengine \u001b[38;5;241m=\u001b[39m xlwings\u001b[38;5;241m.\u001b[39mengines[engine_name]\n\u001b[1;32m     11\u001b[0m \u001b[38;5;28;01melse\u001b[39;00m:\n\u001b[1;32m     12\u001b[0m     \u001b[38;5;66;03m# rng can only be None if used via COM server UDFs\u001b[39;00m\n\u001b[0;32m---> 13\u001b[0m     \u001b[38;5;28mself\u001b[39m\u001b[38;5;241m.\u001b[39mengine \u001b[38;5;241m=\u001b[39m rng\u001b[38;5;241m.\u001b[39msheet\u001b[38;5;241m.\u001b[39mbook\u001b[38;5;241m.\u001b[39mapp\u001b[38;5;241m.\u001b[39mengine \u001b[38;5;28;01mif\u001b[39;00m rng \u001b[38;5;28;01melse\u001b[39;00m xlwings\u001b[38;5;241m.\u001b[39mengines[\u001b[38;5;124m\"\u001b[39m\u001b[38;5;124mexcel\u001b[39m\u001b[38;5;124m\"\u001b[39m]\n\u001b[1;32m     14\u001b[0m \u001b[38;5;28mself\u001b[39m\u001b[38;5;241m.\u001b[39mvalue \u001b[38;5;241m=\u001b[39m value\n\u001b[1;32m     15\u001b[0m \u001b[38;5;66;03m# used for markdown (could be replaced by handing the parsed ast from\u001b[39;00m\n\u001b[1;32m     16\u001b[0m \u001b[38;5;66;03m# the converter stage to the formatting stage\u001b[39;00m\n",
      "File \u001b[0;32m~/Library/Python/3.12/lib/python/site-packages/xlwings/main.py:1993\u001b[0m, in \u001b[0;36mRange.__len__\u001b[0;34m(self)\u001b[0m\n\u001b[1;32m   1992\u001b[0m \u001b[38;5;28;01mdef\u001b[39;00m \u001b[38;5;21m__len__\u001b[39m(\u001b[38;5;28mself\u001b[39m):\n\u001b[0;32m-> 1993\u001b[0m     \u001b[38;5;28;01mreturn\u001b[39;00m \u001b[38;5;28;43mlen\u001b[39;49m\u001b[43m(\u001b[49m\u001b[38;5;28;43mself\u001b[39;49m\u001b[38;5;241;43m.\u001b[39;49m\u001b[43mimpl\u001b[49m\u001b[43m)\u001b[49m\n",
      "File \u001b[0;32m~/Library/Python/3.12/lib/python/site-packages/xlwings/_xlmac.py:842\u001b[0m, in \u001b[0;36mRange.__len__\u001b[0;34m(self)\u001b[0m\n\u001b[1;32m    841\u001b[0m \u001b[38;5;28;01mdef\u001b[39;00m \u001b[38;5;21m__len__\u001b[39m(\u001b[38;5;28mself\u001b[39m):\n\u001b[0;32m--> 842\u001b[0m     \u001b[38;5;28;01mreturn\u001b[39;00m \u001b[38;5;28;43mself\u001b[39;49m\u001b[38;5;241;43m.\u001b[39;49m\u001b[43mcoords\u001b[49m[\u001b[38;5;241m2\u001b[39m] \u001b[38;5;241m*\u001b[39m \u001b[38;5;28mself\u001b[39m\u001b[38;5;241m.\u001b[39mcoords[\u001b[38;5;241m3\u001b[39m]\n",
      "File \u001b[0;32m~/Library/Python/3.12/lib/python/site-packages/xlwings/_xlmac.py:832\u001b[0m, in \u001b[0;36mRange.coords\u001b[0;34m(self)\u001b[0m\n\u001b[1;32m    826\u001b[0m \u001b[38;5;129m@property\u001b[39m\n\u001b[1;32m    827\u001b[0m \u001b[38;5;28;01mdef\u001b[39;00m \u001b[38;5;21mcoords\u001b[39m(\u001b[38;5;28mself\u001b[39m):\n\u001b[1;32m    828\u001b[0m     \u001b[38;5;28;01mif\u001b[39;00m \u001b[38;5;28mself\u001b[39m\u001b[38;5;241m.\u001b[39m_coords \u001b[38;5;129;01mis\u001b[39;00m \u001b[38;5;28;01mNone\u001b[39;00m:\n\u001b[1;32m    829\u001b[0m         \u001b[38;5;28mself\u001b[39m\u001b[38;5;241m.\u001b[39m_coords \u001b[38;5;241m=\u001b[39m (\n\u001b[1;32m    830\u001b[0m             \u001b[38;5;28mself\u001b[39m\u001b[38;5;241m.\u001b[39mxl\u001b[38;5;241m.\u001b[39mfirst_row_index\u001b[38;5;241m.\u001b[39mget(),\n\u001b[1;32m    831\u001b[0m             \u001b[38;5;28mself\u001b[39m\u001b[38;5;241m.\u001b[39mxl\u001b[38;5;241m.\u001b[39mfirst_column_index\u001b[38;5;241m.\u001b[39mget(),\n\u001b[0;32m--> 832\u001b[0m             \u001b[38;5;28;43mself\u001b[39;49m\u001b[38;5;241;43m.\u001b[39;49m\u001b[43mxl\u001b[49m\u001b[38;5;241;43m.\u001b[39;49m\u001b[43mcount\u001b[49m\u001b[43m(\u001b[49m\u001b[43meach\u001b[49m\u001b[38;5;241;43m=\u001b[39;49m\u001b[43mkw\u001b[49m\u001b[38;5;241;43m.\u001b[39;49m\u001b[43mrow\u001b[49m\u001b[43m)\u001b[49m,\n\u001b[1;32m    833\u001b[0m             \u001b[38;5;28mself\u001b[39m\u001b[38;5;241m.\u001b[39mxl\u001b[38;5;241m.\u001b[39mcount(each\u001b[38;5;241m=\u001b[39mkw\u001b[38;5;241m.\u001b[39mcolumn),\n\u001b[1;32m    834\u001b[0m         )\n\u001b[1;32m    835\u001b[0m     \u001b[38;5;28;01mreturn\u001b[39;00m \u001b[38;5;28mself\u001b[39m\u001b[38;5;241m.\u001b[39m_coords\n",
      "File \u001b[0;32m~/Library/Python/3.12/lib/python/site-packages/aeosa/appscript/reference.py:410\u001b[0m, in \u001b[0;36mCommand.__call__\u001b[0;34m(self, *args, **kargs)\u001b[0m\n\u001b[1;32m    409\u001b[0m \u001b[38;5;28;01mdef\u001b[39;00m \u001b[38;5;21m__call__\u001b[39m(\u001b[38;5;28mself\u001b[39m, \u001b[38;5;241m*\u001b[39margs, \u001b[38;5;241m*\u001b[39m\u001b[38;5;241m*\u001b[39mkargs):\n\u001b[0;32m--> 410\u001b[0m \tkeywordargs \u001b[38;5;241m=\u001b[39m \u001b[43mkargs\u001b[49m\u001b[38;5;241;43m.\u001b[39;49m\u001b[43mcopy\u001b[49m\u001b[43m(\u001b[49m\u001b[43m)\u001b[49m\n\u001b[1;32m    411\u001b[0m \t\u001b[38;5;28;01mif\u001b[39;00m \u001b[38;5;28mlen\u001b[39m(args) \u001b[38;5;241m>\u001b[39m \u001b[38;5;241m1\u001b[39m:\n\u001b[1;32m    412\u001b[0m \t\t\u001b[38;5;28;01mraise\u001b[39;00m \u001b[38;5;167;01mTypeError\u001b[39;00m(\u001b[38;5;124m\"\u001b[39m\u001b[38;5;124mCommand received more than one direct parameter \u001b[39m\u001b[38;5;132;01m{!r}\u001b[39;00m\u001b[38;5;124m.\u001b[39m\u001b[38;5;124m\"\u001b[39m\u001b[38;5;241m.\u001b[39mformat(args))\n",
      "\u001b[0;31mKeyboardInterrupt\u001b[0m: "
     ]
    }
   ],
   "source": [
    "sheets = [wb.sheets[i] for i in sheet_names]\n",
    "input_datum = df.apply(lambda x: convert_params(provider, *x[input_cols]), axis=1).reset_index(drop = True)\n",
    "inputs = generate_parameters(provider, input_datum, deposits, downpayments, periods)\n",
    "\n",
    "output = []\n",
    "for idx, input_data in enumerate(tqdm(inputs, desc=\"Processing Data\")):\n",
    "    if idx>=0:\n",
    "        for i in input_data[provider].items():\n",
    "            if 'org' not in i[0]:\n",
    "                val = i[1][2]\n",
    "                if i[0] == 'brand_name':\n",
    "                    d = bnk_brand_idx(sheets[0], val)\n",
    "                elif i[0] == 'car_name':\n",
    "                    d = bnk_car_idx(sheets[0], val)\n",
    "                elif i[0] == 'model_name':\n",
    "                    d = bnk_car_model_idx(sheets[0], val)        \n",
    "                else:\n",
    "                    d = i[1][2]\n",
    "                sheets[i[1][0]].range(i[1][1]).value = d \n",
    "        output.append(\n",
    "            {\n",
    "                \"input\" : input_data,\n",
    "                \"output\": sheets[1].range('N51').value\n",
    "            }\n",
    "        )\n",
    "        if idx % 100 == 0:\n",
    "            records, record = merge_output(provider, output)        \n",
    "            df_out = pd.DataFrame(records)\n",
    "            df_out['period'] = df_out['period'].apply(lambda x: convert_period(provider,x))\n",
    "            df_out.to_csv(f\"\"\"./리스/결과/{provider}/{record['provider']}.csv\"\"\", encoding = 'cp949') "
   ]
  },
  {
   "cell_type": "code",
   "execution_count": 29,
   "id": "d9565dd1-d333-400b-ba91-2ce4230cc043",
   "metadata": {},
   "outputs": [],
   "source": []
  }
 ],
 "metadata": {
  "kernelspec": {
   "display_name": "Python 3 (ipykernel)",
   "language": "python",
   "name": "python3"
  },
  "language_info": {
   "codemirror_mode": {
    "name": "ipython",
    "version": 3
   },
   "file_extension": ".py",
   "mimetype": "text/x-python",
   "name": "python",
   "nbconvert_exporter": "python",
   "pygments_lexer": "ipython3",
   "version": "3.12.3"
  }
 },
 "nbformat": 4,
 "nbformat_minor": 5
}
