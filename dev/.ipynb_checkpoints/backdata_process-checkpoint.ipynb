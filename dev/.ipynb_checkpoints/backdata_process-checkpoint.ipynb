{
 "cells": [
  {
   "cell_type": "code",
   "execution_count": 2,
   "id": "b0a92c46-d139-4725-bc56-a904c3029da0",
   "metadata": {},
   "outputs": [],
   "source": [
    "import glob\n",
    "import xlwings as xw\n",
    "import pandas as pd\n",
    "import itertools\n",
    "import copy\n",
    "import numpy as np"
   ]
  },
  {
   "cell_type": "code",
   "execution_count": 5,
   "id": "00e485e6-7570-4e18-a36c-2c200a2e83a1",
   "metadata": {},
   "outputs": [
    {
     "name": "stdout",
     "output_type": "stream",
     "text": [
      "현대 \n",
      " Index(['brand_name', 'brand_img', 'car_name', 'model_name', 'model_detial',\n",
      "       'car_price', 'ext_color', 'int_color', 'is_limited', '판매여부',\n",
      "       'brand_bnk', 'car_bnk', 'model_bnk', 'brand_mz', 'car_mz',\n",
      "       'brand_woori', 'car_woori', 'brand_im', 'car_im', 'brand_lotte',\n",
      "       'car_lotte', 'model_lotte', 'brand_sh', 'car_sh', 'brand_nh', 'car_nh',\n",
      "       'model_nh', '전기차 보조금'],\n",
      "      dtype='object')\n",
      "기아 \n",
      " Index(['brand_name', 'brand_img', 'car_name', 'model_name', 'model_detial',\n",
      "       'car_price', 'ext_color', 'int_color', 'is_limited', '판매여부',\n",
      "       'brand_bnk', 'car_bnk', 'model_bnk', 'brand_mz', 'car_mz',\n",
      "       'brand_woori', 'car_woori', 'brand_im', 'car_im', 'brand_lotte',\n",
      "       'car_lotte', 'model_lotte', 'brand_sh', 'car_sh', 'brand_nh', 'car_nh',\n",
      "       'model_nh', '전기차 보조금'],\n",
      "      dtype='object')\n",
      "제네시스 \n",
      " Index(['brand_name', 'brand_img', 'car_name', 'model_name', 'model_detial',\n",
      "       'car_price', 'ext_color', 'int_color', 'is_limited', '판매여부',\n",
      "       'brand_bnk', 'car_bnk', 'model_bnk', 'brand_mz', 'car_mz',\n",
      "       'brand_woori', 'car_woori', 'brand_im', 'car_im', 'brand_lotte',\n",
      "       'car_lotte', 'model_lotte', 'brand_sh', 'car_sh', 'brand_nh', 'car_nh',\n",
      "       'model_nh', '전기차 보조금'],\n",
      "      dtype='object')\n",
      "르노 \n",
      " Index(['brand_name', 'brand_img', 'car_name', 'model_name', 'model_detial',\n",
      "       'car_price', 'ext_color', 'int_color', 'is_limited', '판매여부',\n",
      "       'brand_bnk', 'car_bnk', 'model_bnk', 'brand_mz', 'car_mz',\n",
      "       'brand_woori', 'car_woori', 'brand_im', 'car_im', 'brand_lotte',\n",
      "       'car_lotte', 'model_lotte', 'brand_sh', 'car_sh', 'brand_nh', 'car_nh',\n",
      "       'model_nh', '전기차 보조금'],\n",
      "      dtype='object')\n",
      "쉐보레 \n",
      " Index(['brand_name', 'brand_img', 'car_name', 'model_name', 'model_detial',\n",
      "       'car_price', 'ext_color', 'int_color', 'is_limited', '판매여부',\n",
      "       'brand_bnk', 'car_bnk', 'model_bnk', 'brand_mz', 'car_mz',\n",
      "       'brand_woori', 'car_woori', 'brand_im', 'car_im', 'brand_lotte',\n",
      "       'car_lotte', 'model_lotte', 'brand_sh', 'car_sh', 'brand_nh', 'car_nh',\n",
      "       'model_nh', '전기차 보조금'],\n",
      "      dtype='object')\n",
      "KG모빌리티 \n",
      " Index(['brand_name', 'brand_img', 'car_name', 'model_name', 'model_detial',\n",
      "       'car_price', 'ext_color', 'int_color', 'is_limited', '판매여부',\n",
      "       'brand_bnk', 'car_bnk', 'model_bnk', 'brand_mz', 'car_mz',\n",
      "       'brand_woori', 'car_woori', 'brand_im', 'car_im', 'brand_lotte',\n",
      "       'car_lotte', 'model_lotte', 'brand_sh', 'car_sh', 'brand_nh', 'car_nh',\n",
      "       'model_nh', '전기차 보조금'],\n",
      "      dtype='object')\n"
     ]
    }
   ],
   "source": [
    "brand_master = ['현대','기아','제네시스','르노','쉐보레', 'KG모빌리티']\n",
    "\n",
    "for bm in brand_master:\n",
    "    xl_app = xw.App(visible=False)\n",
    "    wb = xl_app.books.open('./리스/backdata.xlsx')\n",
    "    data = wb.sheets[bm].range('B1:AC2000').value\n",
    "    df = pd.DataFrame(data[1:], columns=data[0])\n",
    "    df = df.dropna(subset = 'brand_name')\n",
    "    df = df[df['판매여부'] != 'N']\n",
    "    df.columns = [i.lower() for i in df.columns]\n",
    "    for c in df.columns:\n",
    "        df[c] = df[c].astype(str).str.replace('\\xa0', ' ') \n",
    "        \n",
    "    df.to_csv(f'./리스/정리데이터/{bm}.csv', encoding = 'cp949')\n",
    "    print(bm, '\\n', df.columns)\n",
    "    \n",
    "wb.close()"
   ]
  },
  {
   "cell_type": "code",
   "execution_count": null,
   "id": "67234837-fee7-46bb-8fe0-a2324fa70efd",
   "metadata": {},
   "outputs": [],
   "source": []
  }
 ],
 "metadata": {
  "kernelspec": {
   "display_name": "Python 3 (ipykernel)",
   "language": "python",
   "name": "python3"
  },
  "language_info": {
   "codemirror_mode": {
    "name": "ipython",
    "version": 3
   },
   "file_extension": ".py",
   "mimetype": "text/x-python",
   "name": "python",
   "nbconvert_exporter": "python",
   "pygments_lexer": "ipython3",
   "version": "3.12.3"
  }
 },
 "nbformat": 4,
 "nbformat_minor": 5
}
