{
 "cells": [
  {
   "cell_type": "code",
   "execution_count": 4,
   "id": "d2dff94b-1bee-4bc6-977c-97ebf92eb58e",
   "metadata": {},
   "outputs": [],
   "source": [
    "!pkill -f \"Microsoft Excel\""
   ]
  },
  {
   "cell_type": "code",
   "execution_count": 1,
   "id": "6324f66a-8594-4add-a1d4-262e2a777105",
   "metadata": {},
   "outputs": [],
   "source": [
    "import glob\n",
    "import xlwings as xw\n",
    "import pandas as pd\n",
    "import itertools\n",
    "import copy\n",
    "import numpy as np\n",
    "import sys\n",
    "# from tqdm import tqdm\n",
    "from tqdm.notebook import tqdm\n",
    "sys.path.append('../')\n",
    "from modules import * "
   ]
  },
  {
   "cell_type": "code",
   "execution_count": 2,
   "id": "bbc84c51-8589-43ed-acd1-c1c6805ebfa0",
   "metadata": {},
   "outputs": [],
   "source": [
    "df = pd.read_csv('./리스/정리데이터/현대.csv', encoding = 'cp949')"
   ]
  },
  {
   "cell_type": "code",
   "execution_count": 3,
   "id": "28214714-23c1-4805-a7d1-0ead0e0b5dd3",
   "metadata": {},
   "outputs": [],
   "source": [
    "deposits = [0, 0.1, 0.2, 0.3, 0.4]\n",
    "downpayments = [0, 0.1, 0.2, 0.3, 0.4] \n",
    "periods = [60,48,36] # 60, 48, 36 \n",
    "provider = 'nh'\n",
    "sheet_names = ['운용리스', '1']\n",
    "input_cols = ['brand_nh', 'car_nh', 'model_nh', 'car_price', 'brand_name', 'car_name', 'model_name', 'model_detial']\n",
    "\n",
    "xl_app = xw.App(visible=False)\n",
    "xl_app.enable_events = False\n",
    "xl_app.display_alerts = False  # 경고 메시지 비활성화\n",
    "\n",
    "wb = xl_app.books.open(f'./리스/견적기/{provider}.xlsx')"
   ]
  },
  {
   "cell_type": "code",
   "execution_count": 21,
   "id": "3c4df4f8-298b-4e8b-a289-6096e3f56567",
   "metadata": {},
   "outputs": [
    {
     "data": {
      "application/vnd.jupyter.widget-view+json": {
       "model_id": "86eb250aff7d48418ad7735a88d95b3c",
       "version_major": 2,
       "version_minor": 0
      },
      "text/plain": [
       "Processing Data:   0%|          | 0/7575 [00:00<?, ?it/s]"
      ]
     },
     "metadata": {},
     "output_type": "display_data"
    },
    {
     "name": "stderr",
     "output_type": "stream",
     "text": [
      "\n",
      "KeyboardInterrupt\n",
      "\n"
     ]
    }
   ],
   "source": [
    "sheets = [wb.sheets[i] for i in sheet_names]\n",
    "input_datum = df.apply(lambda x: convert_params(provider, *x[input_cols]), axis=1).reset_index(drop = True)\n",
    "input_datum = [i for i in input_datum if type(i[provider]['brand_name'][2]) == str]\n",
    "inputs = generate_parameters(provider, input_datum, deposits, downpayments, periods)\n",
    "\n",
    "output = []\n",
    "for idx, input_data in enumerate(tqdm(inputs, desc=\"Processing Data\")):\n",
    "    if idx>=0:\n",
    "        for i in input_data[provider].items():\n",
    "            if 'org' not in i[0]:\n",
    "                val = i[1][2]\n",
    "                if i[0] == 'brand_name':\n",
    "                    d = nh_brand_idx(sheets[1], input_data[provider]['brand_name'][2])\n",
    "                elif i[0] == 'car_name':\n",
    "                    d = nh_car_idx(sheets[0], input_data[provider]['car_name'][2])\n",
    "                elif i[0] == 'model_name':\n",
    "                    d = nh_car_model_idx(sheets[0], input_data[provider]['model_name'][2])        \n",
    "                else:\n",
    "                    d = i[1][2]\n",
    "                sheets[i[1][0]].range(i[1][1]).value = d \n",
    "        output.append(\n",
    "            {\n",
    "                \"input\" : input_data,\n",
    "                \"output\": sheets[1].range('AG22').value\n",
    "            }\n",
    "        )\n",
    "    \n",
    "        if idx % 100 == 0:\n",
    "            records, record = merge_output(provider, output)        \n",
    "            df_out = pd.DataFrame(records)\n",
    "            df_out['period'] = df_out['period'].apply(lambda x: convert_period(provider,x))\n",
    "            df_out.to_csv(f\"\"\"./리스/결과/{provider}/{record['provider']}.csv\"\"\", encoding = 'cp949') "
   ]
  },
  {
   "cell_type": "code",
   "execution_count": null,
   "id": "b9d1d206-9449-44e9-91a2-2fe6cd2dfcdd",
   "metadata": {},
   "outputs": [],
   "source": []
  }
 ],
 "metadata": {
  "kernelspec": {
   "display_name": "Python 3 (ipykernel)",
   "language": "python",
   "name": "python3"
  },
  "language_info": {
   "codemirror_mode": {
    "name": "ipython",
    "version": 3
   },
   "file_extension": ".py",
   "mimetype": "text/x-python",
   "name": "python",
   "nbconvert_exporter": "python",
   "pygments_lexer": "ipython3",
   "version": "3.12.3"
  }
 },
 "nbformat": 4,
 "nbformat_minor": 5
}
