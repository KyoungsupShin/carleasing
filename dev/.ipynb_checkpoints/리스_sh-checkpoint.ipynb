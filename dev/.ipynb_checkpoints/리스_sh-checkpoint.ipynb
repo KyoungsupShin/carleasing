{
 "cells": [
  {
   "cell_type": "code",
   "execution_count": 10,
   "id": "d2dff94b-1bee-4bc6-977c-97ebf92eb58e",
   "metadata": {},
   "outputs": [],
   "source": [
    "!pkill -f \"Microsoft Excel\""
   ]
  },
  {
   "cell_type": "code",
   "execution_count": 19,
   "id": "6324f66a-8594-4add-a1d4-262e2a777105",
   "metadata": {},
   "outputs": [],
   "source": [
    "import glob\n",
    "import xlwings as xw\n",
    "import pandas as pd\n",
    "import itertools\n",
    "import copy\n",
    "import numpy as np\n",
    "import sys\n",
    "# from tqdm import tqdm\n",
    "from tqdm.notebook import tqdm\n",
    "sys.path.append('../')\n",
    "from modules import * "
   ]
  },
  {
   "cell_type": "code",
   "execution_count": 20,
   "id": "bbc84c51-8589-43ed-acd1-c1c6805ebfa0",
   "metadata": {},
   "outputs": [],
   "source": [
    "df = pd.read_csv('./리스/정리데이터/현대.csv', encoding = 'cp949')"
   ]
  },
  {
   "cell_type": "code",
   "execution_count": null,
   "id": "697c9ad4-e576-4c94-b661-8fd37d006573",
   "metadata": {},
   "outputs": [],
   "source": [
    "deposits = [0, 0.1, 0.2, 0.3, 0.4]\n",
    "downpayments = [0, 0.1, 0.2, 0.3, 0.4] \n",
    "periods = [36, 48, 60] # 60, 48, 36 \n",
    "provider = 'sh'\n",
    "sheet_names = ['리스모델', '리스_비교']\n",
    "input_cols = ['brand_sh', 'car_sh', 'car_sh', 'car_price', 'brand_name', 'car_name', 'model_name', 'model_detial']\n",
    "\n",
    "xl_app = xw.App(visible=False)\n",
    "xl_app.enable_events = False\n",
    "xl_app.display_alerts = False  # 경고 메시지 비활성화\n",
    "wb = xl_app.books.open(f'./리스/견적기/{provider}.xlsx')"
   ]
  },
  {
   "cell_type": "code",
   "execution_count": null,
   "id": "3c4df4f8-298b-4e8b-a289-6096e3f56567",
   "metadata": {},
   "outputs": [],
   "source": [
    "sheets = [wb.sheets[i] for i in sheet_names]\n",
    "input_datum = df.apply(lambda x: convert_params(provider, *x[input_cols]), axis=1).reset_index(drop = True)\n",
    "input_datum = [i for i in input_datum if np.isnan(i[provider]['brand_name'][2]) == False]\n",
    "inputs = generate_parameters(provider, input_datum, deposits, downpayments, periods)\n",
    "\n",
    "output = []\n",
    "for idx, input_data in enumerate(tqdm(inputs, desc=\"Processing Data\")):\n",
    "    if idx>=0:\n",
    "        for i in input_data[provider].items():\n",
    "            if 'org' not in i[0]:\n",
    "                val = i[1][2]\n",
    "                if i[0] == 'brand_name':\n",
    "                    d = int(val)\n",
    "                elif i[0] == 'car_name':\n",
    "                    car_name = sh_car_idx(sheets[0], int(input_data[provider]['car_name'][2]))\n",
    "                    d = car_name\n",
    "                elif i[0] == 'model_name':\n",
    "                    car_name = sh_car_idx(sheets[0], int(input_data[provider]['car_name'][2]))     \n",
    "                    d = car_name\n",
    "                else:\n",
    "                    d = i[1][2]\n",
    "                sheets[i[1][0]].range(i[1][1]).value = d \n",
    "        output.append(\n",
    "            {\n",
    "                \"input\" : input_data,\n",
    "                \"output\": sheets[1].range('K28').value\n",
    "            }\n",
    "        )\n",
    "    \n",
    "        if idx % 100 == 0:\n",
    "            records, record = merge_output(provider, output)        \n",
    "            df_out = pd.DataFrame(records)\n",
    "            df_out['period'] = df_out['period'].apply(lambda x: convert_period(provider,x))\n",
    "            df_out.to_csv(f\"\"\"./리스/결과/{provider}/{record['provider']}.csv\"\"\", encoding = 'cp949') "
   ]
  },
  {
   "cell_type": "code",
   "execution_count": null,
   "id": "3c0877e8-eede-447b-a41e-210c05aeeff4",
   "metadata": {},
   "outputs": [],
   "source": []
  },
  {
   "cell_type": "code",
   "execution_count": null,
   "id": "696b196a-085e-44c1-a7b5-fb001344b12f",
   "metadata": {},
   "outputs": [],
   "source": []
  }
 ],
 "metadata": {
  "kernelspec": {
   "display_name": "Python 3 (ipykernel)",
   "language": "python",
   "name": "python3"
  },
  "language_info": {
   "codemirror_mode": {
    "name": "ipython",
    "version": 3
   },
   "file_extension": ".py",
   "mimetype": "text/x-python",
   "name": "python",
   "nbconvert_exporter": "python",
   "pygments_lexer": "ipython3",
   "version": "3.12.3"
  }
 },
 "nbformat": 4,
 "nbformat_minor": 5
}
